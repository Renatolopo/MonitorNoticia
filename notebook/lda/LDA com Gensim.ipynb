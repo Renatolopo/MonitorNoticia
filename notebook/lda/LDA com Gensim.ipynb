{
 "cells": [
  {
   "cell_type": "code",
   "execution_count": 1,
   "metadata": {},
   "outputs": [
    {
     "name": "stderr",
     "output_type": "stream",
     "text": [
      "[nltk_data] Downloading package stopwords to /home/renato/nltk_data...\n",
      "[nltk_data]   Package stopwords is already up-to-date!\n"
     ]
    }
   ],
   "source": [
    "import nltk\n",
    "nltk.download('stopwords')\n",
    "\n",
    "# gerais\n",
    "import re\n",
    "import numpy as np\n",
    "import pandas as pd\n",
    "from pprint import pprint\n",
    "\n",
    "\n",
    "# Gensim\n",
    "import gensim, spacy\n",
    "import gensim.corpora as corpora\n",
    "from gensim.utils import simple_preprocess\n",
    "from gensim.models import CoherenceModel\n",
    "\n",
    "\n",
    "#plot\n",
    "import pyLDAvis\n",
    "import pyLDAvis.gensim\n",
    "import matplotlib.pyplot as plt\n",
    "%matplotlib inline\n",
    "\n",
    "\n",
    "# Enable logging for gensim - optional\n",
    "import logging\n",
    "logging.basicConfig(format='%(asctime)s : %(levelname)s : %(message)s', level=logging.ERROR)\n",
    "\n",
    "import warnings\n",
    "warnings.filterwarnings(\"ignore\",category=DeprecationWarning)\n"
   ]
  },
  {
   "cell_type": "code",
   "execution_count": 2,
   "metadata": {},
   "outputs": [],
   "source": [
    "from nltk.corpus import stopwords\n",
    "stop_words = set(stopwords.words(\"portuguese\"))\n",
    "stop_words.update(['que', 'até', 'esse', \n",
    "                    'essa', 'pro', 'pra',\n",
    "                    'oi', 'lá', 'blá', 'dos'])"
   ]
  },
  {
   "cell_type": "code",
   "execution_count": 3,
   "metadata": {},
   "outputs": [
    {
     "data": {
      "text/html": [
       "<div>\n",
       "<style scoped>\n",
       "    .dataframe tbody tr th:only-of-type {\n",
       "        vertical-align: middle;\n",
       "    }\n",
       "\n",
       "    .dataframe tbody tr th {\n",
       "        vertical-align: top;\n",
       "    }\n",
       "\n",
       "    .dataframe thead th {\n",
       "        text-align: right;\n",
       "    }\n",
       "</style>\n",
       "<table border=\"1\" class=\"dataframe\">\n",
       "  <thead>\n",
       "    <tr style=\"text-align: right;\">\n",
       "      <th></th>\n",
       "      <th>Unnamed: 0</th>\n",
       "      <th>ID</th>\n",
       "      <th>USUARIO</th>\n",
       "      <th>TWEET</th>\n",
       "      <th>DATA_TWEET</th>\n",
       "      <th>language</th>\n",
       "    </tr>\n",
       "  </thead>\n",
       "  <tbody>\n",
       "    <tr>\n",
       "      <th>0</th>\n",
       "      <td>1</td>\n",
       "      <td>2</td>\n",
       "      <td>meliiuza</td>\n",
       "      <td>RT @joshfeelsz: Meu Deus Eu tô em loop com ess...</td>\n",
       "      <td>2020-09-22 14:17:14</td>\n",
       "      <td>portuguese</td>\n",
       "    </tr>\n",
       "    <tr>\n",
       "      <th>1</th>\n",
       "      <td>9</td>\n",
       "      <td>11</td>\n",
       "      <td>Karine77379754</td>\n",
       "      <td>RT @majorjhs: eu nem fico mais surpresa com a ...</td>\n",
       "      <td>2020-09-22 14:17:19</td>\n",
       "      <td>portuguese</td>\n",
       "    </tr>\n",
       "    <tr>\n",
       "      <th>2</th>\n",
       "      <td>19</td>\n",
       "      <td>22</td>\n",
       "      <td>EloaSuzi</td>\n",
       "      <td>RT @fabiofaria5555: PR @jairbolsonaro discursa...</td>\n",
       "      <td>2020-09-22 14:17:23</td>\n",
       "      <td>portuguese</td>\n",
       "    </tr>\n",
       "    <tr>\n",
       "      <th>3</th>\n",
       "      <td>21</td>\n",
       "      <td>24</td>\n",
       "      <td>Djan00392004</td>\n",
       "      <td>RT @planalto: #AoVivo: Presidente @jairbolsona...</td>\n",
       "      <td>2020-09-22 14:17:22</td>\n",
       "      <td>portuguese</td>\n",
       "    </tr>\n",
       "    <tr>\n",
       "      <th>4</th>\n",
       "      <td>22</td>\n",
       "      <td>25</td>\n",
       "      <td>barbaralustoza</td>\n",
       "      <td>biroliro falando de cristofobia na Assembleia ...</td>\n",
       "      <td>2020-09-22 14:17:22</td>\n",
       "      <td>portuguese</td>\n",
       "    </tr>\n",
       "  </tbody>\n",
       "</table>\n",
       "</div>"
      ],
      "text/plain": [
       "   Unnamed: 0  ID         USUARIO  \\\n",
       "0           1   2        meliiuza   \n",
       "1           9  11  Karine77379754   \n",
       "2          19  22        EloaSuzi   \n",
       "3          21  24    Djan00392004   \n",
       "4          22  25  barbaralustoza   \n",
       "\n",
       "                                               TWEET           DATA_TWEET  \\\n",
       "0  RT @joshfeelsz: Meu Deus Eu tô em loop com ess...  2020-09-22 14:17:14   \n",
       "1  RT @majorjhs: eu nem fico mais surpresa com a ...  2020-09-22 14:17:19   \n",
       "2  RT @fabiofaria5555: PR @jairbolsonaro discursa...  2020-09-22 14:17:23   \n",
       "3  RT @planalto: #AoVivo: Presidente @jairbolsona...  2020-09-22 14:17:22   \n",
       "4  biroliro falando de cristofobia na Assembleia ...  2020-09-22 14:17:22   \n",
       "\n",
       "     language  \n",
       "0  portuguese  \n",
       "1  portuguese  \n",
       "2  portuguese  \n",
       "3  portuguese  \n",
       "4  portuguese  "
      ]
     },
     "execution_count": 3,
     "metadata": {},
     "output_type": "execute_result"
    }
   ],
   "source": [
    "# Import Dataset\n",
    "df = pd.read_csv('../Dados coletados/Twitter_padronizado.csv', encoding='utf-8',  lineterminator='\\n')\n",
    "df.head()"
   ]
  },
  {
   "cell_type": "markdown",
   "metadata": {},
   "source": [
    "## Pré processamento"
   ]
  },
  {
   "cell_type": "code",
   "execution_count": 6,
   "metadata": {},
   "outputs": [],
   "source": [
    "def remove_elementos_repetidos(lista):\n",
    "    nova_lista = []\n",
    "    for item in lista:\n",
    "        if item not in nova_lista:\n",
    "            nova_lista.append(item)\n",
    "    return nova_lista\n",
    "\n",
    "# remove special characters and digits\n",
    "def clean_tweet(tweet):\n",
    "    # remove os RT\n",
    "    tweet = re.sub(r'RT+', '', tweet) \n",
    "    \n",
    "    # remove as menções\n",
    "    tweet = re.sub(r'@\\S+', '', tweet)  \n",
    "    \n",
    "    # remove links e alguns pontos\n",
    "    tweet = re.sub(r'kkk\\S+', '', tweet)\n",
    "    tweet = re.sub(r\"http\\S+\", \"\", tweet).lower().replace('.','').replace(';','').replace('-','').replace(':','').replace(')','')\n",
    "    \n",
    "    # remove alguns caracteres\n",
    "    tweet  = re.sub(\"(\\\\d|\\\\W)+|\\w*\\d\\w*\",\" \",tweet )\n",
    "    tweet = ' '.join(s for s in tweet.split() if (not any(c.isdigit() for c in s)) and len(s) > 2)\n",
    "    tweet = tweet.replace(\"\\n\", \"\")\n",
    "    return tweet"
   ]
  },
  {
   "cell_type": "code",
   "execution_count": 7,
   "metadata": {},
   "outputs": [
    {
     "data": {
      "text/plain": [
       "['nem fico mais surpresa com forma que essas premiações americanas tratam bts eles são maiores artistas geração',\n",
       " 'discursa agora assembleia geral organização das nações unidas onu brasil segue mostran',\n",
       " 'aovivo presidente faz discurso abertura assembleia geral organização das nações unidas onu',\n",
       " 'biroliro falando cristofobia assembleia geral onu claro igrejas cristãs são invadidas destruídas todos',\n",
       " 'discurso bolsonaro assembleia geral onu foi sucessão vergonhosa mentiras não restam dúvidas que ele',\n",
       " 'luto preço ser alfabetizado ouvir esse discurso bolsonaro assembleia geral onu saber que ele pres',\n",
       " 'bts participarar mais uma vez assembleia geral das nações unidas dia setembro grupo compartilhará uma men',\n",
       " 'que pesadelo presidente brasil enfileirando mentiras narrativas sem nem cabeça preconceitos teorias conspi',\n",
       " 'para quem não paraná não sabe que migué dolangue bolsonaro falando assembléia geral onu que']"
      ]
     },
     "execution_count": 7,
     "metadata": {},
     "output_type": "execute_result"
    }
   ],
   "source": [
    "clean_tweets = []\n",
    "for w in range(len(df.TWEET)):\n",
    "  tweet = df['TWEET'].iloc[w]\n",
    "  tweet = clean_tweet(tweet)\n",
    "    \n",
    "  clean_tweets.append(tweet)\n",
    "\n",
    "#remover colunas repetidas\n",
    "clean_tweets = remove_elementos_repetidos(clean_tweets)\n",
    "clean_tweets[1:10]"
   ]
  },
  {
   "cell_type": "code",
   "execution_count": 8,
   "metadata": {},
   "outputs": [
    {
     "name": "stdout",
     "output_type": "stream",
     "text": [
      "[['meu', 'deus', 'loop', 'com', 'esse', 'negocio', 'overthemoon'], ['nem', 'fico', 'mais', 'surpresa', 'com', 'forma', 'que', 'essas', 'premiacoes', 'americanas', 'tratam', 'bts', 'eles', 'sao', 'maiores', 'artistas', 'geracao'], ['discursa', 'agora', 'assembleia', 'geral', 'organizacao', 'das', 'nacoes', 'unidas', 'onu', 'brasil', 'segue', 'mostran'], ['aovivo', 'presidente', 'faz', 'discurso', 'abertura', 'assembleia', 'geral', 'organizacao', 'das', 'nacoes', 'unidas', 'onu'], ['biroliro', 'falando', 'cristofobia', 'assembleia', 'geral', 'onu', 'claro', 'igrejas', 'cristas', 'sao', 'invadidas', 'destruidas', 'todos'], ['discurso', 'bolsonaro', 'assembleia', 'geral', 'onu', 'foi', 'sucessao', 'vergonhosa', 'mentiras', 'nao', 'restam', 'duvidas', 'que', 'ele'], ['luto', 'preco', 'ser', 'alfabetizado', 'ouvir', 'esse', 'discurso', 'bolsonaro', 'assembleia', 'geral', 'onu', 'saber', 'que', 'ele', 'pres'], ['bts', 'participarar', 'mais', 'uma', 'vez', 'assembleia', 'geral', 'das', 'nacoes', 'unidas', 'dia', 'setembro', 'grupo', 'compartilhara', 'uma', 'men'], ['que', 'pesadelo', 'presidente', 'brasil', 'enfileirando', 'mentiras', 'narrativas', 'sem', 'nem', 'cabeca', 'preconceitos', 'teorias', 'conspi'], ['para', 'quem', 'nao', 'parana', 'nao', 'sabe', 'que', 'migue', 'dolangue', 'bolsonaro', 'falando', 'assembleia', 'geral', 'onu', 'que']]\n"
     ]
    }
   ],
   "source": [
    "def sent_to_words(sentences):\n",
    "    for sentence in sentences:\n",
    "        yield(gensim.utils.simple_preprocess(str(sentence), deacc=True))  # deacc=True removes punctuations\n",
    "\n",
    "data_words = list(sent_to_words(clean_tweets))\n",
    "\n",
    "print(data_words[:10])"
   ]
  },
  {
   "cell_type": "code",
   "execution_count": 9,
   "metadata": {},
   "outputs": [
    {
     "name": "stdout",
     "output_type": "stream",
     "text": [
      "['meu', 'deus', 'loop', 'com', 'esse', 'negocio', 'overthemoon']\n"
     ]
    }
   ],
   "source": [
    "# Build the bigram and trigram models\n",
    "bigram = gensim.models.Phrases(data_words, min_count=5, threshold=100) # higher threshold fewer phrases.\n",
    "trigram = gensim.models.Phrases(bigram[data_words], threshold=100)  \n",
    "\n",
    "# Faster way to get a sentence clubbed as a trigram/bigram\n",
    "bigram_mod = gensim.models.phrases.Phraser(bigram)\n",
    "trigram_mod = gensim.models.phrases.Phraser(trigram)\n",
    "\n",
    "# See trigram example\n",
    "print(trigram_mod[bigram_mod[data_words[0]]])"
   ]
  },
  {
   "cell_type": "code",
   "execution_count": 10,
   "metadata": {},
   "outputs": [],
   "source": [
    "# Define functions for stopwords, bigrams, trigrams and lemmatization\n",
    "def remove_stopwords(texts):\n",
    "    return [[word for word in simple_preprocess(str(doc)) if word not in stop_words] for doc in texts]\n",
    "\n",
    "def make_bigrams(texts):\n",
    "    return [bigram_mod[doc] for doc in texts]\n",
    "\n",
    "def make_trigrams(texts):\n",
    "    return [trigram_mod[bigram_mod[doc]] for doc in texts]\n",
    "\n"
   ]
  },
  {
   "cell_type": "code",
   "execution_count": 11,
   "metadata": {},
   "outputs": [],
   "source": [
    "# Remove Stop Words\n",
    "data_words_nostops = remove_stopwords(data_words)\n",
    "\n",
    "# Form Bigrams\n",
    "data_words_bigrams = make_bigrams(data_words_nostops)\n",
    "\n",
    "# Initialize spacy 'en' model, keeping only tagger component (for efficiency)\n",
    "# python3 -m spacy download en\n",
    "#nlp = spacy.load('en', disable=['parser', 'ner'])\n"
   ]
  },
  {
   "cell_type": "code",
   "execution_count": 12,
   "metadata": {},
   "outputs": [
    {
     "name": "stdout",
     "output_type": "stream",
     "text": [
      "[[(0, 1), (1, 1), (2, 1), (3, 1)]]\n"
     ]
    }
   ],
   "source": [
    "data_words = data_words_bigrams\n",
    "# Create Dictionary\n",
    "id2word = corpora.Dictionary(data_words)\n",
    "\n",
    "# Create Corpus\n",
    "texts = data_words\n",
    "\n",
    "# Term Document Frequency\n",
    "corpus = [id2word.doc2bow(text) for text in texts]\n",
    "\n",
    "# View\n",
    "print(corpus[:1])\n"
   ]
  },
  {
   "cell_type": "code",
   "execution_count": 14,
   "metadata": {},
   "outputs": [
    {
     "name": "stderr",
     "output_type": "stream",
     "text": [
      "100%|██████████| 8/8 [04:00<00:00, 30.12s/it]\n"
     ]
    },
    {
     "data": {
      "image/png": "[encoded data removed]",
      "text/plain": [
       "<Figure size 432x288 with 1 Axes>"
      ]
     },
     "metadata": {
      "needs_background": "light"
     },
     "output_type": "display_data"
    },
    {
     "name": "stdout",
     "output_type": "stream",
     "text": [
      "A quantidade de tópicos = 10  tem um valor de coerência de  0.195\n",
      "A quantidade de tópicos = 12  tem um valor de coerência de  0.1872\n",
      "A quantidade de tópicos = 14  tem um valor de coerência de  0.1918\n",
      "A quantidade de tópicos = 16  tem um valor de coerência de  0.1705\n",
      "A quantidade de tópicos = 18  tem um valor de coerência de  0.1726\n",
      "A quantidade de tópicos = 20  tem um valor de coerência de  0.2017\n",
      "A quantidade de tópicos = 22  tem um valor de coerência de  0.1766\n",
      "A quantidade de tópicos = 24  tem um valor de coerência de  0.1919\n"
     ]
    }
   ],
   "source": [
    "from tqdm import tqdm\n",
    "from gensim.models.ldamulticore import LdaMulticore\n",
    "# Função para determinar a melhor quantidade de tópicos para a modelagem\n",
    "def compute_coherence_values(dictionary, corpus, texts, limit, start=2, step=5):\n",
    "    coherence_values = []\n",
    "    model_list = []\n",
    "    for num_topics in tqdm(range(start, limit, step)):\n",
    "        model = LdaMulticore(corpus, id2word=id2word, num_topics=10)\n",
    "        model_list.append(model)\n",
    "        coherencemodel = CoherenceModel(model=model, texts=texts, \n",
    "                                        dictionary=dictionary, coherence='c_v')\n",
    "        coherence_values.append(coherencemodel.get_coherence())\n",
    "    return model_list, coherence_values\n",
    "\n",
    "# Colocando parametros na função\n",
    "model_list, coherence_values =  compute_coherence_values(dictionary=id2word, corpus=corpus, \n",
    "                         texts=data_words, start=10, limit=25, step=2)\n",
    "\n",
    "# Mostrando visualmente a quantidade de tópicos\n",
    "limit=25; start=10; step=2;\n",
    "x = range(start, limit, step)\n",
    "plt.plot(x, coherence_values)\n",
    "plt.xlabel(\"Num Tópicos\")\n",
    "plt.ylabel(\"Score de Coerência\")\n",
    "plt.legend((\"Valores de Coerência\"), loc='best')\n",
    "plt.show()# Lista dos valores de coerência, para melhor identificar o ponto de inflexão do gráfico\n",
    "for m, cv in zip(x, coherence_values):\n",
    "    print(\"A quantidade de tópicos =\", m, \" tem um valor de coerência de \", round(cv, 4))"
   ]
  },
  {
   "cell_type": "code",
   "execution_count": 15,
   "metadata": {},
   "outputs": [],
   "source": [
    "# Vamos agora construir de fato o modelo \n",
    "LDAlda_model = LdaMulticore(corpus=corpus,\n",
    "                        id2word=id2word,\n",
    "                        num_topics=30, \n",
    "                        random_state=42,\n",
    "                        chunksize=100,\n",
    "                        passes=10,\n",
    "                        per_word_topics=True,\n",
    "                        alpha = 0.9,\n",
    "                        eta = 0.3)"
   ]
  },
  {
   "cell_type": "code",
   "execution_count": null,
   "metadata": {},
   "outputs": [],
   "source": []
  },
  {
   "cell_type": "code",
   "execution_count": 13,
   "metadata": {},
   "outputs": [
    {
     "data": {
      "text/plain": [
       "[[('deus', 1), ('loop', 1), ('negocio', 1), ('overthemoon', 1)]]"
      ]
     },
     "execution_count": 13,
     "metadata": {},
     "output_type": "execute_result"
    }
   ],
   "source": [
    "# Human readable format of corpus (term-frequency)\n",
    "[[(id2word[id], freq) for id, freq in cp] for cp in corpus[:1]]\n"
   ]
  },
  {
   "cell_type": "code",
   "execution_count": 15,
   "metadata": {},
   "outputs": [
    {
     "ename": "KeyboardInterrupt",
     "evalue": "",
     "output_type": "error",
     "traceback": [
      "\u001b[0;31m---------------------------------------------------------------------------\u001b[0m",
      "\u001b[0;31mKeyboardInterrupt\u001b[0m                         Traceback (most recent call last)",
      "\u001b[0;32m<ipython-input-15-a2abbff84d5f>\u001b[0m in \u001b[0;36m<module>\u001b[0;34m\u001b[0m\n\u001b[1;32m      1\u001b[0m \u001b[0;31m# Build LDA model\u001b[0m\u001b[0;34m\u001b[0m\u001b[0;34m\u001b[0m\u001b[0;34m\u001b[0m\u001b[0m\n\u001b[0;32m----> 2\u001b[0;31m lda_model = gensim.models.ldamodel.LdaModel(corpus=corpus,\n\u001b[0m\u001b[1;32m      3\u001b[0m                                            \u001b[0mid2word\u001b[0m\u001b[0;34m=\u001b[0m\u001b[0mid2word\u001b[0m\u001b[0;34m,\u001b[0m\u001b[0;34m\u001b[0m\u001b[0;34m\u001b[0m\u001b[0m\n\u001b[1;32m      4\u001b[0m                                            \u001b[0mnum_topics\u001b[0m\u001b[0;34m=\u001b[0m\u001b[0;36m20\u001b[0m\u001b[0;34m,\u001b[0m\u001b[0;34m\u001b[0m\u001b[0;34m\u001b[0m\u001b[0m\n\u001b[1;32m      5\u001b[0m                                            \u001b[0mrandom_state\u001b[0m\u001b[0;34m=\u001b[0m\u001b[0;36m42\u001b[0m\u001b[0;34m,\u001b[0m\u001b[0;34m\u001b[0m\u001b[0;34m\u001b[0m\u001b[0m\n",
      "\u001b[0;32m~/anaconda3/lib/python3.8/site-packages/gensim/models/ldamodel.py\u001b[0m in \u001b[0;36m__init__\u001b[0;34m(self, corpus, num_topics, id2word, distributed, chunksize, passes, update_every, alpha, eta, decay, offset, eval_every, iterations, gamma_threshold, minimum_probability, random_state, ns_conf, minimum_phi_value, per_word_topics, callbacks, dtype)\u001b[0m\n\u001b[1;32m    517\u001b[0m         \u001b[0;32mif\u001b[0m \u001b[0mcorpus\u001b[0m \u001b[0;32mis\u001b[0m \u001b[0;32mnot\u001b[0m \u001b[0;32mNone\u001b[0m\u001b[0;34m:\u001b[0m\u001b[0;34m\u001b[0m\u001b[0;34m\u001b[0m\u001b[0m\n\u001b[1;32m    518\u001b[0m             \u001b[0muse_numpy\u001b[0m \u001b[0;34m=\u001b[0m \u001b[0mself\u001b[0m\u001b[0;34m.\u001b[0m\u001b[0mdispatcher\u001b[0m \u001b[0;32mis\u001b[0m \u001b[0;32mnot\u001b[0m \u001b[0;32mNone\u001b[0m\u001b[0;34m\u001b[0m\u001b[0;34m\u001b[0m\u001b[0m\n\u001b[0;32m--> 519\u001b[0;31m             \u001b[0mself\u001b[0m\u001b[0;34m.\u001b[0m\u001b[0mupdate\u001b[0m\u001b[0;34m(\u001b[0m\u001b[0mcorpus\u001b[0m\u001b[0;34m,\u001b[0m \u001b[0mchunks_as_numpy\u001b[0m\u001b[0;34m=\u001b[0m\u001b[0muse_numpy\u001b[0m\u001b[0;34m)\u001b[0m\u001b[0;34m\u001b[0m\u001b[0;34m\u001b[0m\u001b[0m\n\u001b[0m\u001b[1;32m    520\u001b[0m \u001b[0;34m\u001b[0m\u001b[0m\n\u001b[1;32m    521\u001b[0m     \u001b[0;32mdef\u001b[0m \u001b[0minit_dir_prior\u001b[0m\u001b[0;34m(\u001b[0m\u001b[0mself\u001b[0m\u001b[0;34m,\u001b[0m \u001b[0mprior\u001b[0m\u001b[0;34m,\u001b[0m \u001b[0mname\u001b[0m\u001b[0;34m)\u001b[0m\u001b[0;34m:\u001b[0m\u001b[0;34m\u001b[0m\u001b[0;34m\u001b[0m\u001b[0m\n",
      "\u001b[0;32m~/anaconda3/lib/python3.8/site-packages/gensim/models/ldamodel.py\u001b[0m in \u001b[0;36mupdate\u001b[0;34m(self, corpus, chunksize, decay, offset, passes, update_every, eval_every, iterations, gamma_threshold, chunks_as_numpy)\u001b[0m\n\u001b[1;32m    992\u001b[0m                         \u001b[0mlogger\u001b[0m\u001b[0;34m.\u001b[0m\u001b[0minfo\u001b[0m\u001b[0;34m(\u001b[0m\u001b[0;34m\"reached the end of input; now waiting for all remaining jobs to finish\"\u001b[0m\u001b[0;34m)\u001b[0m\u001b[0;34m\u001b[0m\u001b[0;34m\u001b[0m\u001b[0m\n\u001b[1;32m    993\u001b[0m                         \u001b[0mother\u001b[0m \u001b[0;34m=\u001b[0m \u001b[0mself\u001b[0m\u001b[0;34m.\u001b[0m\u001b[0mdispatcher\u001b[0m\u001b[0;34m.\u001b[0m\u001b[0mgetstate\u001b[0m\u001b[0;34m(\u001b[0m\u001b[0;34m)\u001b[0m\u001b[0;34m\u001b[0m\u001b[0;34m\u001b[0m\u001b[0m\n\u001b[0;32m--> 994\u001b[0;31m                     \u001b[0mself\u001b[0m\u001b[0;34m.\u001b[0m\u001b[0mdo_mstep\u001b[0m\u001b[0;34m(\u001b[0m\u001b[0mrho\u001b[0m\u001b[0;34m(\u001b[0m\u001b[0;34m)\u001b[0m\u001b[0;34m,\u001b[0m \u001b[0mother\u001b[0m\u001b[0;34m,\u001b[0m \u001b[0mpass_\u001b[0m \u001b[0;34m>\u001b[0m \u001b[0;36m0\u001b[0m\u001b[0;34m)\u001b[0m\u001b[0;34m\u001b[0m\u001b[0;34m\u001b[0m\u001b[0m\n\u001b[0m\u001b[1;32m    995\u001b[0m                     \u001b[0;32mdel\u001b[0m \u001b[0mother\u001b[0m  \u001b[0;31m# frees up memory\u001b[0m\u001b[0;34m\u001b[0m\u001b[0;34m\u001b[0m\u001b[0m\n\u001b[1;32m    996\u001b[0m \u001b[0;34m\u001b[0m\u001b[0m\n",
      "\u001b[0;32m~/anaconda3/lib/python3.8/site-packages/gensim/models/ldamodel.py\u001b[0m in \u001b[0;36mdo_mstep\u001b[0;34m(self, rho, other, extra_pass)\u001b[0m\n\u001b[1;32m   1038\u001b[0m         \u001b[0;31m# update self with the new blend; also keep track of how much did\u001b[0m\u001b[0;34m\u001b[0m\u001b[0;34m\u001b[0m\u001b[0;34m\u001b[0m\u001b[0m\n\u001b[1;32m   1039\u001b[0m         \u001b[0;31m# the topics change through this update, to assess convergence\u001b[0m\u001b[0;34m\u001b[0m\u001b[0;34m\u001b[0m\u001b[0;34m\u001b[0m\u001b[0m\n\u001b[0;32m-> 1040\u001b[0;31m         \u001b[0mprevious_Elogbeta\u001b[0m \u001b[0;34m=\u001b[0m \u001b[0mself\u001b[0m\u001b[0;34m.\u001b[0m\u001b[0mstate\u001b[0m\u001b[0;34m.\u001b[0m\u001b[0mget_Elogbeta\u001b[0m\u001b[0;34m(\u001b[0m\u001b[0;34m)\u001b[0m\u001b[0;34m\u001b[0m\u001b[0;34m\u001b[0m\u001b[0m\n\u001b[0m\u001b[1;32m   1041\u001b[0m         \u001b[0mself\u001b[0m\u001b[0;34m.\u001b[0m\u001b[0mstate\u001b[0m\u001b[0;34m.\u001b[0m\u001b[0mblend\u001b[0m\u001b[0;34m(\u001b[0m\u001b[0mrho\u001b[0m\u001b[0;34m,\u001b[0m \u001b[0mother\u001b[0m\u001b[0;34m)\u001b[0m\u001b[0;34m\u001b[0m\u001b[0;34m\u001b[0m\u001b[0m\n\u001b[1;32m   1042\u001b[0m \u001b[0;34m\u001b[0m\u001b[0m\n",
      "\u001b[0;32m~/anaconda3/lib/python3.8/site-packages/gensim/models/ldamodel.py\u001b[0m in \u001b[0;36mget_Elogbeta\u001b[0;34m(self)\u001b[0m\n\u001b[1;32m    277\u001b[0m             \u001b[0mPosterior\u001b[0m \u001b[0mprobabilities\u001b[0m \u001b[0;32mfor\u001b[0m \u001b[0meach\u001b[0m \u001b[0mtopic\u001b[0m\u001b[0;34m.\u001b[0m\u001b[0;34m\u001b[0m\u001b[0;34m\u001b[0m\u001b[0m\n\u001b[1;32m    278\u001b[0m         \"\"\"\n\u001b[0;32m--> 279\u001b[0;31m         \u001b[0;32mreturn\u001b[0m \u001b[0mdirichlet_expectation\u001b[0m\u001b[0;34m(\u001b[0m\u001b[0mself\u001b[0m\u001b[0;34m.\u001b[0m\u001b[0mget_lambda\u001b[0m\u001b[0;34m(\u001b[0m\u001b[0;34m)\u001b[0m\u001b[0;34m)\u001b[0m\u001b[0;34m\u001b[0m\u001b[0;34m\u001b[0m\u001b[0m\n\u001b[0m\u001b[1;32m    280\u001b[0m \u001b[0;34m\u001b[0m\u001b[0m\n\u001b[1;32m    281\u001b[0m     \u001b[0;34m@\u001b[0m\u001b[0mclassmethod\u001b[0m\u001b[0;34m\u001b[0m\u001b[0;34m\u001b[0m\u001b[0m\n",
      "\u001b[0;31mKeyboardInterrupt\u001b[0m: "
     ]
    }
   ],
   "source": [
    "# Build LDA model\n",
    "lda_model = gensim.models.ldamodel.LdaModel(corpus=corpus,\n",
    "                                           id2word=id2word,\n",
    "                                           num_topics=20, \n",
    "                                           random_state=42,\n",
    "                                           update_every=1,\n",
    "                                           chunksize=100,\n",
    "                                           passes=10,\n",
    "                                           alpha='auto',\n",
    "                                           per_word_topics=True)\n"
   ]
  },
  {
   "cell_type": "code",
   "execution_count": 16,
   "metadata": {},
   "outputs": [
    {
     "data": {
      "text/plain": [
       "[(0,\n",
       "  '0.036*\"nao\" + 0.012*\"ser\" + 0.009*\"vai\" + 0.008*\"jogo\" + 0.007*\"voce\" + 0.007*\"deus\" + 0.006*\"foto\" + 0.006*\"pode\" + 0.005*\"botafogo\" + 0.005*\"time\" + 0.005*\"vou\" + 0.005*\"ate\" + 0.005*\"cara\" + 0.005*\"bolsonaro\" + 0.004*\"ver\" + 0.004*\"quero\" + 0.004*\"agora\" + 0.004*\"melhor\" + 0.004*\"nada\" + 0.003*\"tao\"'),\n",
       " (1,\n",
       "  '0.047*\"nao\" + 0.009*\"melhor\" + 0.009*\"sempre\" + 0.009*\"sao\" + 0.008*\"sim\" + 0.008*\"gosto\" + 0.008*\"reinaldo\" + 0.006*\"shawn\" + 0.005*\"ser\" + 0.005*\"aqui\" + 0.005*\"trends\" + 0.004*\"mim\" + 0.004*\"falar\" + 0.004*\"brasil\" + 0.004*\"demais\" + 0.004*\"gente\" + 0.004*\"amo\" + 0.003*\"musica\" + 0.003*\"idoso\" + 0.003*\"cara\"'),\n",
       " (2,\n",
       "  '0.018*\"nao\" + 0.017*\"sao\" + 0.012*\"paulo\" + 0.008*\"encontro\" + 0.006*\"bolsonaro\" + 0.005*\"dia\" + 0.005*\"diniz\" + 0.005*\"melhor\" + 0.005*\"stf\" + 0.004*\"anos\" + 0.004*\"cara\" + 0.004*\"idoso\" + 0.004*\"bom\" + 0.004*\"agora\" + 0.004*\"river\" + 0.004*\"flay\" + 0.004*\"tinga\" + 0.003*\"ter\" + 0.003*\"personagem\" + 0.003*\"bem\"'),\n",
       " (3,\n",
       "  '0.039*\"dia\" + 0.027*\"nao\" + 0.017*\"vai\" + 0.013*\"hoje\" + 0.010*\"bom\" + 0.007*\"outubro\" + 0.006*\"ser\" + 0.006*\"voces\" + 0.006*\"vou\" + 0.006*\"gente\" + 0.005*\"todo\" + 0.005*\"fazer\" + 0.005*\"mes\" + 0.005*\"ate\" + 0.005*\"sao\" + 0.005*\"sobre\" + 0.004*\"neymar\" + 0.004*\"voce\" + 0.004*\"queria\" + 0.004*\"pqp\"'),\n",
       " (4,\n",
       "  '0.036*\"nao\" + 0.016*\"sao\" + 0.011*\"gente\" + 0.010*\"ser\" + 0.010*\"paulo\" + 0.009*\"vai\" + 0.007*\"ter\" + 0.007*\"neneca\" + 0.007*\"time\" + 0.007*\"raissa\" + 0.006*\"voces\" + 0.005*\"dia\" + 0.005*\"bom\" + 0.005*\"botafogo\" + 0.005*\"tudo\" + 0.004*\"votar\" + 0.004*\"sei\" + 0.004*\"tecnico\" + 0.003*\"aqui\" + 0.003*\"jogo\"'),\n",
       " (5,\n",
       "  '0.050*\"nao\" + 0.008*\"ainda\" + 0.008*\"voce\" + 0.007*\"acho\" + 0.007*\"time\" + 0.006*\"gol\" + 0.006*\"rony\" + 0.006*\"nunca\" + 0.006*\"cruzeiro\" + 0.006*\"tao\" + 0.005*\"agora\" + 0.005*\"quer\" + 0.005*\"aqui\" + 0.004*\"assim\" + 0.004*\"copa_brasil\" + 0.004*\"vai\" + 0.004*\"ver\" + 0.003*\"serie\" + 0.003*\"mundo\" + 0.003*\"sao\"'),\n",
       " (6,\n",
       "  '0.024*\"vai\" + 0.017*\"nao\" + 0.009*\"agora\" + 0.009*\"lexa\" + 0.008*\"gente\" + 0.008*\"cara\" + 0.008*\"biel\" + 0.007*\"fazer\" + 0.007*\"tava\" + 0.006*\"itunes\" + 0.006*\"vou\" + 0.006*\"ainda\" + 0.005*\"ver\" + 0.005*\"aqui\" + 0.005*\"ate\" + 0.005*\"rodrigo\" + 0.005*\"ter\" + 0.004*\"ficar\" + 0.004*\"tudo\" + 0.004*\"outubro\"'),\n",
       " (7,\n",
       "  '0.020*\"jogo\" + 0.019*\"nao\" + 0.013*\"flamengo\" + 0.011*\"time\" + 0.010*\"lakers\" + 0.009*\"hoje\" + 0.008*\"faz\" + 0.006*\"palmeiras\" + 0.006*\"tempo\" + 0.006*\"ate\" + 0.006*\"melhor\" + 0.006*\"gol\" + 0.006*\"sim\" + 0.005*\"bom\" + 0.005*\"grupo\" + 0.005*\"contra\" + 0.004*\"ano\" + 0.004*\"trabalho\" + 0.004*\"primeiro\" + 0.004*\"agora\"'),\n",
       " (8,\n",
       "  '0.037*\"nao\" + 0.014*\"ser\" + 0.009*\"flamengo\" + 0.008*\"hoje\" + 0.008*\"vamos\" + 0.007*\"vai\" + 0.007*\"bem\" + 0.006*\"pode\" + 0.005*\"aqui\" + 0.005*\"ainda\" + 0.005*\"jogo\" + 0.005*\"sim\" + 0.004*\"time\" + 0.004*\"tag\" + 0.004*\"vem\" + 0.004*\"tudo\" + 0.004*\"palmeiras\" + 0.004*\"amo\" + 0.003*\"sempre\" + 0.003*\"gol\"'),\n",
       " (9,\n",
       "  '0.033*\"nao\" + 0.012*\"mes\" + 0.011*\"voce\" + 0.009*\"outubro\" + 0.008*\"tudo\" + 0.007*\"falando\" + 0.006*\"gente\" + 0.006*\"sabe\" + 0.006*\"melhor\" + 0.005*\"bem\" + 0.005*\"deus\" + 0.005*\"vida\" + 0.005*\"tao\" + 0.005*\"ver\" + 0.005*\"amor\" + 0.004*\"todos\" + 0.004*\"puta\" + 0.004*\"hoje\" + 0.004*\"alguem\" + 0.004*\"aqui\"')]"
      ]
     },
     "execution_count": 16,
     "metadata": {},
     "output_type": "execute_result"
    }
   ],
   "source": [
    "optimal_model = model_list[0]\n",
    "optimal_model.print_topics(num_topics = 30, num_words = 20)"
   ]
  }
 ],
 "metadata": {
  "kernelspec": {
   "display_name": "Python 3",
   "language": "python",
   "name": "python3"
  },
  "language_info": {
   "codemirror_mode": {
    "name": "ipython",
    "version": 3
   },
   "file_extension": ".py",
   "mimetype": "text/x-python",
   "name": "python",
   "nbconvert_exporter": "python",
   "pygments_lexer": "ipython3",
   "version": "3.8.3"
  }
 },
 "nbformat": 4,
 "nbformat_minor": 4
}
