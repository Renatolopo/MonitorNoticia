{
 "cells": [
  {
   "cell_type": "code",
   "execution_count": 4,
   "metadata": {},
   "outputs": [],
   "source": [
    "# baseado em - https://www.kaggle.com/leandrodoze/sentiment-analysis-in-portuguese\n",
    "#imports\n",
    "import nltk\n",
    "import re\n",
    "import pandas as pd\n",
    "from sklearn.feature_extraction.text import CountVectorizer\n",
    "from sklearn.naive_bayes import MultinomialNB\n",
    "from sklearn import metrics\n",
    "from sklearn.model_selection import cross_val_predict\n",
    "\n"
   ]
  },
  {
   "cell_type": "code",
   "execution_count": 7,
   "metadata": {},
   "outputs": [
    {
     "data": {
      "text/plain": [
       "Unnamed: 0                   8199\n",
       "Created At                   8199\n",
       "Text                         8199\n",
       "Geo Coordinates.latitude      104\n",
       "Geo Coordinates.longitude     104\n",
       "User Location                5489\n",
       "Username                     8199\n",
       "User Screen Name             8199\n",
       "Retweet Count                8199\n",
       "Classificacao                8199\n",
       "Observação                      1\n",
       "Unnamed: 10                     0\n",
       "Unnamed: 11                     0\n",
       "Unnamed: 12                     0\n",
       "Unnamed: 13                     0\n",
       "Unnamed: 14                     0\n",
       "Unnamed: 15                     0\n",
       "Unnamed: 16                     0\n",
       "Unnamed: 17                     0\n",
       "Unnamed: 18                     0\n",
       "Unnamed: 19                     0\n",
       "Unnamed: 20                     0\n",
       "Unnamed: 21                     0\n",
       "Unnamed: 22                     0\n",
       "Unnamed: 23                     0\n",
       "Unnamed: 24                     0\n",
       "dtype: int64"
      ]
     },
     "execution_count": 7,
     "metadata": {},
     "output_type": "execute_result"
    }
   ],
   "source": [
    "dataset = pd.read_csv('./files test/Tweets_Mg.csv')\n",
    "dataset.count()"
   ]
  },
  {
   "cell_type": "code",
   "execution_count": 8,
   "metadata": {
    "scrolled": true
   },
   "outputs": [
    {
     "data": {
      "text/html": [
       "<div>\n",
       "<style scoped>\n",
       "    .dataframe tbody tr th:only-of-type {\n",
       "        vertical-align: middle;\n",
       "    }\n",
       "\n",
       "    .dataframe tbody tr th {\n",
       "        vertical-align: top;\n",
       "    }\n",
       "\n",
       "    .dataframe thead th {\n",
       "        text-align: right;\n",
       "    }\n",
       "</style>\n",
       "<table border=\"1\" class=\"dataframe\">\n",
       "  <thead>\n",
       "    <tr style=\"text-align: right;\">\n",
       "      <th></th>\n",
       "      <th>Unnamed: 0</th>\n",
       "      <th>Created At</th>\n",
       "      <th>Text</th>\n",
       "      <th>Geo Coordinates.latitude</th>\n",
       "      <th>Geo Coordinates.longitude</th>\n",
       "      <th>User Location</th>\n",
       "      <th>Username</th>\n",
       "      <th>User Screen Name</th>\n",
       "      <th>Retweet Count</th>\n",
       "      <th>Classificacao</th>\n",
       "      <th>...</th>\n",
       "      <th>Unnamed: 15</th>\n",
       "      <th>Unnamed: 16</th>\n",
       "      <th>Unnamed: 17</th>\n",
       "      <th>Unnamed: 18</th>\n",
       "      <th>Unnamed: 19</th>\n",
       "      <th>Unnamed: 20</th>\n",
       "      <th>Unnamed: 21</th>\n",
       "      <th>Unnamed: 22</th>\n",
       "      <th>Unnamed: 23</th>\n",
       "      <th>Unnamed: 24</th>\n",
       "    </tr>\n",
       "  </thead>\n",
       "  <tbody>\n",
       "    <tr>\n",
       "      <th>0</th>\n",
       "      <td>0</td>\n",
       "      <td>Sun Jan 08 01:22:05 +0000 2017</td>\n",
       "      <td>���⛪ @ Catedral de Santo Antônio - Governador ...</td>\n",
       "      <td>NaN</td>\n",
       "      <td>NaN</td>\n",
       "      <td>Brasil</td>\n",
       "      <td>Leonardo C Schneider</td>\n",
       "      <td>LeoCSchneider</td>\n",
       "      <td>0</td>\n",
       "      <td>Neutro</td>\n",
       "      <td>...</td>\n",
       "      <td>NaN</td>\n",
       "      <td>NaN</td>\n",
       "      <td>NaN</td>\n",
       "      <td>NaN</td>\n",
       "      <td>NaN</td>\n",
       "      <td>NaN</td>\n",
       "      <td>NaN</td>\n",
       "      <td>NaN</td>\n",
       "      <td>NaN</td>\n",
       "      <td>NaN</td>\n",
       "    </tr>\n",
       "    <tr>\n",
       "      <th>1</th>\n",
       "      <td>1</td>\n",
       "      <td>Sun Jan 08 01:49:01 +0000 2017</td>\n",
       "      <td>� @ Governador Valadares, Minas Gerais https:/...</td>\n",
       "      <td>-41.9333</td>\n",
       "      <td>-18.85</td>\n",
       "      <td>NaN</td>\n",
       "      <td>Wândell</td>\n",
       "      <td>klefnews</td>\n",
       "      <td>0</td>\n",
       "      <td>Neutro</td>\n",
       "      <td>...</td>\n",
       "      <td>NaN</td>\n",
       "      <td>NaN</td>\n",
       "      <td>NaN</td>\n",
       "      <td>NaN</td>\n",
       "      <td>NaN</td>\n",
       "      <td>NaN</td>\n",
       "      <td>NaN</td>\n",
       "      <td>NaN</td>\n",
       "      <td>NaN</td>\n",
       "      <td>NaN</td>\n",
       "    </tr>\n",
       "    <tr>\n",
       "      <th>2</th>\n",
       "      <td>2</td>\n",
       "      <td>Sun Jan 08 01:01:46 +0000 2017</td>\n",
       "      <td>�� @ Governador Valadares, Minas Gerais https:...</td>\n",
       "      <td>-41.9333</td>\n",
       "      <td>-18.85</td>\n",
       "      <td>NaN</td>\n",
       "      <td>Wândell</td>\n",
       "      <td>klefnews</td>\n",
       "      <td>0</td>\n",
       "      <td>Neutro</td>\n",
       "      <td>...</td>\n",
       "      <td>NaN</td>\n",
       "      <td>NaN</td>\n",
       "      <td>NaN</td>\n",
       "      <td>NaN</td>\n",
       "      <td>NaN</td>\n",
       "      <td>NaN</td>\n",
       "      <td>NaN</td>\n",
       "      <td>NaN</td>\n",
       "      <td>NaN</td>\n",
       "      <td>NaN</td>\n",
       "    </tr>\n",
       "    <tr>\n",
       "      <th>3</th>\n",
       "      <td>3</td>\n",
       "      <td>Wed Jan 04 21:43:51 +0000 2017</td>\n",
       "      <td>��� https://t.co/BnDsO34qK0</td>\n",
       "      <td>NaN</td>\n",
       "      <td>NaN</td>\n",
       "      <td>NaN</td>\n",
       "      <td>Ana estudando</td>\n",
       "      <td>estudandoconcur</td>\n",
       "      <td>0</td>\n",
       "      <td>Neutro</td>\n",
       "      <td>...</td>\n",
       "      <td>NaN</td>\n",
       "      <td>NaN</td>\n",
       "      <td>NaN</td>\n",
       "      <td>NaN</td>\n",
       "      <td>NaN</td>\n",
       "      <td>NaN</td>\n",
       "      <td>NaN</td>\n",
       "      <td>NaN</td>\n",
       "      <td>NaN</td>\n",
       "      <td>NaN</td>\n",
       "    </tr>\n",
       "    <tr>\n",
       "      <th>4</th>\n",
       "      <td>4</td>\n",
       "      <td>Mon Jan 09 15:08:21 +0000 2017</td>\n",
       "      <td>��� PSOL vai questionar aumento de vereadores ...</td>\n",
       "      <td>NaN</td>\n",
       "      <td>NaN</td>\n",
       "      <td>NaN</td>\n",
       "      <td>Emily</td>\n",
       "      <td>Milly777</td>\n",
       "      <td>0</td>\n",
       "      <td>Negativo</td>\n",
       "      <td>...</td>\n",
       "      <td>NaN</td>\n",
       "      <td>NaN</td>\n",
       "      <td>NaN</td>\n",
       "      <td>NaN</td>\n",
       "      <td>NaN</td>\n",
       "      <td>NaN</td>\n",
       "      <td>NaN</td>\n",
       "      <td>NaN</td>\n",
       "      <td>NaN</td>\n",
       "      <td>NaN</td>\n",
       "    </tr>\n",
       "  </tbody>\n",
       "</table>\n",
       "<p>5 rows × 26 columns</p>\n",
       "</div>"
      ],
      "text/plain": [
       "   Unnamed: 0                      Created At  \\\n",
       "0           0  Sun Jan 08 01:22:05 +0000 2017   \n",
       "1           1  Sun Jan 08 01:49:01 +0000 2017   \n",
       "2           2  Sun Jan 08 01:01:46 +0000 2017   \n",
       "3           3  Wed Jan 04 21:43:51 +0000 2017   \n",
       "4           4  Mon Jan 09 15:08:21 +0000 2017   \n",
       "\n",
       "                                                Text  \\\n",
       "0  ���⛪ @ Catedral de Santo Antônio - Governador ...   \n",
       "1  � @ Governador Valadares, Minas Gerais https:/...   \n",
       "2  �� @ Governador Valadares, Minas Gerais https:...   \n",
       "3                        ��� https://t.co/BnDsO34qK0   \n",
       "4  ��� PSOL vai questionar aumento de vereadores ...   \n",
       "\n",
       "   Geo Coordinates.latitude  Geo Coordinates.longitude User Location  \\\n",
       "0                       NaN                        NaN        Brasil   \n",
       "1                  -41.9333                     -18.85           NaN   \n",
       "2                  -41.9333                     -18.85           NaN   \n",
       "3                       NaN                        NaN           NaN   \n",
       "4                       NaN                        NaN           NaN   \n",
       "\n",
       "               Username User Screen Name  Retweet Count Classificacao  ...  \\\n",
       "0  Leonardo C Schneider    LeoCSchneider              0        Neutro  ...   \n",
       "1               Wândell         klefnews              0        Neutro  ...   \n",
       "2               Wândell         klefnews              0        Neutro  ...   \n",
       "3         Ana estudando  estudandoconcur              0        Neutro  ...   \n",
       "4                 Emily         Milly777              0      Negativo  ...   \n",
       "\n",
       "  Unnamed: 15  Unnamed: 16  Unnamed: 17  Unnamed: 18  Unnamed: 19  \\\n",
       "0         NaN          NaN          NaN          NaN          NaN   \n",
       "1         NaN          NaN          NaN          NaN          NaN   \n",
       "2         NaN          NaN          NaN          NaN          NaN   \n",
       "3         NaN          NaN          NaN          NaN          NaN   \n",
       "4         NaN          NaN          NaN          NaN          NaN   \n",
       "\n",
       "   Unnamed: 20  Unnamed: 21  Unnamed: 22  Unnamed: 23  Unnamed: 24  \n",
       "0          NaN          NaN          NaN          NaN          NaN  \n",
       "1          NaN          NaN          NaN          NaN          NaN  \n",
       "2          NaN          NaN          NaN          NaN          NaN  \n",
       "3          NaN          NaN          NaN          NaN          NaN  \n",
       "4          NaN          NaN          NaN          NaN          NaN  \n",
       "\n",
       "[5 rows x 26 columns]"
      ]
     },
     "execution_count": 8,
     "metadata": {},
     "output_type": "execute_result"
    }
   ],
   "source": [
    "dataset.head()"
   ]
  },
  {
   "cell_type": "markdown",
   "metadata": {},
   "source": [
    "## Construindo o modelo"
   ]
  },
  {
   "cell_type": "code",
   "execution_count": 10,
   "metadata": {},
   "outputs": [
    {
     "data": {
      "text/plain": [
       "array(['���⛪ @ Catedral de Santo Antônio - Governador Valadares/MG https://t.co/JSbKamIqUJ',\n",
       "       '� @ Governador Valadares, Minas Gerais https://t.co/B3ThIDJCSf',\n",
       "       '�� @ Governador Valadares, Minas Gerais https://t.co/dPkgzVR2Qw',\n",
       "       ...,\n",
       "       'Trio é preso suspeito de roubo, tráfico e abuso sexual em Uberlândia https://t.co/zaQbXRRJWc',\n",
       "       'Trio é preso suspeito de roubo, tráfico e abuso sexual em Uberlândia: Um dos autores teria molestado vítima de… https://t.co/lQ8cTSNftA',\n",
       "       'Trio suspeito de roubo de cargas é preso em Santa Luzia (MG) https://t.co/0INgJcMtZb #R7MG #RecordTVMinas'],\n",
       "      dtype=object)"
      ]
     },
     "execution_count": 10,
     "metadata": {},
     "output_type": "execute_result"
    }
   ],
   "source": [
    "tweets = dataset[\"Text\"].values\n",
    "tweets"
   ]
  },
  {
   "cell_type": "code",
   "execution_count": 11,
   "metadata": {},
   "outputs": [
    {
     "data": {
      "text/plain": [
       "array(['Neutro', 'Neutro', 'Neutro', ..., 'Positivo', 'Positivo',\n",
       "       'Positivo'], dtype=object)"
      ]
     },
     "execution_count": 11,
     "metadata": {},
     "output_type": "execute_result"
    }
   ],
   "source": [
    "classes = dataset[\"Classificacao\"].values\n",
    "classes"
   ]
  },
  {
   "cell_type": "code",
   "execution_count": 12,
   "metadata": {},
   "outputs": [
    {
     "data": {
      "text/plain": [
       "MultinomialNB()"
      ]
     },
     "execution_count": 12,
     "metadata": {},
     "output_type": "execute_result"
    }
   ],
   "source": [
    "# Agora, vamos treinar o modelo usando a abordagem Bag of Words e o algoritmo Naive Bayes Multinomial\n",
    "#    - Bag of Words, na prática, cria um vetor com cada uma das palavras do texto completo da base,\n",
    "#      depois, calcula a frequência em que essas palavras ocorrem em uma data sentença, para então\n",
    "#      classificar/treinar o modelo\n",
    "#    - Exemplo HIPOTÉTICO de três sentenças vetorizadas \"por palavra\" e classificadas baseada na\n",
    "#      frequência de suas palavras:\n",
    "#         {0,3,2,0,0,1,0,0,0,1, Positivo}\n",
    "#         {0,0,1,0,0,1,0,1,0,0, Negativo}\n",
    "#         {0,1,1,0,0,1,0,0,0,0, Neutro}\n",
    "#    - Olhando para esses vetores, meu palpite é que as palavras nas posições 2 e 3 são as com maior\n",
    "#      peso na determinação de a que classe pertence cada uma das três sentenças avaliadas\n",
    "#    - A função fit_transform faz exatamente esse processo: ajusta o modelo, aprende o vocabulário,\n",
    "#      e transforma os dados de treinamento em feature vectors, a.k.a. vetor com frequêcia das palavras\n",
    "\n",
    "vectorizer = CountVectorizer(analyzer = \"word\")\n",
    "freq_tweets = vectorizer.fit_transform(tweets)\n",
    "\n",
    "modelo = MultinomialNB()\n",
    "modelo.fit(freq_tweets, classes)"
   ]
  },
  {
   "cell_type": "markdown",
   "metadata": {},
   "source": [
    "## Testando o Modelo"
   ]
  },
  {
   "cell_type": "code",
   "execution_count": 31,
   "metadata": {},
   "outputs": [
    {
     "data": {
      "text/plain": [
       "array(['Neutro'], dtype='<U8')"
      ]
     },
     "execution_count": 31,
     "metadata": {},
     "output_type": "execute_result"
    }
   ],
   "source": [
    "\n",
    "\n",
    "# Vamos usar algumas frases de teste para fazer a classificação com o modelo treinado\n",
    "testes = [\"Bom dia rapaziada\"]\n",
    "\n",
    "freq_testes = vectorizer.transform(testes)\n",
    "modelo.predict(freq_testes)"
   ]
  },
  {
   "cell_type": "code",
   "execution_count": 33,
   "metadata": {},
   "outputs": [
    {
     "data": {
      "text/plain": [
       "0.8831564824978656"
      ]
     },
     "execution_count": 33,
     "metadata": {},
     "output_type": "execute_result"
    }
   ],
   "source": [
    "# Validação cruzada do modelo. Neste caso, o modelo é dividido em 10 partes, treinado em 9 e testado em 1\n",
    "resultados = cross_val_predict(modelo, freq_tweets, classes, cv = 10)\n",
    "# Quão acurada é a média do modelo?\n",
    "metrics.accuracy_score(classes, resultados)\n"
   ]
  },
  {
   "cell_type": "markdown",
   "metadata": {},
   "source": [
    "## Testando com outra base de dados"
   ]
  },
  {
   "cell_type": "code",
   "execution_count": 43,
   "metadata": {},
   "outputs": [
    {
     "data": {
      "text/html": [
       "<div>\n",
       "<style scoped>\n",
       "    .dataframe tbody tr th:only-of-type {\n",
       "        vertical-align: middle;\n",
       "    }\n",
       "\n",
       "    .dataframe tbody tr th {\n",
       "        vertical-align: top;\n",
       "    }\n",
       "\n",
       "    .dataframe thead th {\n",
       "        text-align: right;\n",
       "    }\n",
       "</style>\n",
       "<table border=\"1\" class=\"dataframe\">\n",
       "  <thead>\n",
       "    <tr style=\"text-align: right;\">\n",
       "      <th></th>\n",
       "      <th>Unnamed: 0</th>\n",
       "      <th>ID</th>\n",
       "      <th>USUARIO</th>\n",
       "      <th>TWEET</th>\n",
       "      <th>DATA_TWEET</th>\n",
       "      <th>language</th>\n",
       "    </tr>\n",
       "  </thead>\n",
       "  <tbody>\n",
       "    <tr>\n",
       "      <th>0</th>\n",
       "      <td>6</td>\n",
       "      <td>556</td>\n",
       "      <td>Thayna18900373</td>\n",
       "      <td>RT @lohlovesot7: olha eu digo sem medo de erra...</td>\n",
       "      <td>2020-08-25 12:23:15</td>\n",
       "      <td>portuguese</td>\n",
       "    </tr>\n",
       "    <tr>\n",
       "      <th>1</th>\n",
       "      <td>7</td>\n",
       "      <td>557</td>\n",
       "      <td>naturegyu</td>\n",
       "      <td>RT @Tdetravesti: MAIS DE 12 MIL MÁSCARAS!!! \\n...</td>\n",
       "      <td>2020-08-25 12:22:59</td>\n",
       "      <td>portuguese</td>\n",
       "    </tr>\n",
       "    <tr>\n",
       "      <th>2</th>\n",
       "      <td>9</td>\n",
       "      <td>559</td>\n",
       "      <td>nathaliaspss</td>\n",
       "      <td>RT @TatiNefertari: A Casa Nem é um espaço de a...</td>\n",
       "      <td>2020-08-25 12:21:21</td>\n",
       "      <td>portuguese</td>\n",
       "    </tr>\n",
       "    <tr>\n",
       "      <th>3</th>\n",
       "      <td>10</td>\n",
       "      <td>560</td>\n",
       "      <td>ivansearom</td>\n",
       "      <td>RT @pabllovittar: #CASANEMCASAVIVA  não dá pra...</td>\n",
       "      <td>2020-08-25 12:16:56</td>\n",
       "      <td>portuguese</td>\n",
       "    </tr>\n",
       "    <tr>\n",
       "      <th>4</th>\n",
       "      <td>11</td>\n",
       "      <td>562</td>\n",
       "      <td>lonelybkwolf</td>\n",
       "      <td>RT @pabllovittar: #CASANEMCASAVIVA  não dá pra...</td>\n",
       "      <td>2020-08-25 12:15:43</td>\n",
       "      <td>portuguese</td>\n",
       "    </tr>\n",
       "  </tbody>\n",
       "</table>\n",
       "</div>"
      ],
      "text/plain": [
       "   Unnamed: 0   ID         USUARIO  \\\n",
       "0           6  556  Thayna18900373   \n",
       "1           7  557       naturegyu   \n",
       "2           9  559    nathaliaspss   \n",
       "3          10  560      ivansearom   \n",
       "4          11  562    lonelybkwolf   \n",
       "\n",
       "                                               TWEET           DATA_TWEET  \\\n",
       "0  RT @lohlovesot7: olha eu digo sem medo de erra...  2020-08-25 12:23:15   \n",
       "1  RT @Tdetravesti: MAIS DE 12 MIL MÁSCARAS!!! \\n...  2020-08-25 12:22:59   \n",
       "2  RT @TatiNefertari: A Casa Nem é um espaço de a...  2020-08-25 12:21:21   \n",
       "3  RT @pabllovittar: #CASANEMCASAVIVA  não dá pra...  2020-08-25 12:16:56   \n",
       "4  RT @pabllovittar: #CASANEMCASAVIVA  não dá pra...  2020-08-25 12:15:43   \n",
       "\n",
       "     language  \n",
       "0  portuguese  \n",
       "1  portuguese  \n",
       "2  portuguese  \n",
       "3  portuguese  \n",
       "4  portuguese  "
      ]
     },
     "execution_count": 43,
     "metadata": {},
     "output_type": "execute_result"
    }
   ],
   "source": [
    "df = pd.read_csv('./files test/tweets_para_teste.csv')\n",
    "df.head()"
   ]
  },
  {
   "cell_type": "code",
   "execution_count": 41,
   "metadata": {},
   "outputs": [],
   "source": [
    "def classifica_tweets(tweet):\n",
    "    tweet = [tweet]\n",
    "    freq_testes = vectorizer.transform(tweet)\n",
    "    return modelo.predict(freq_testes)"
   ]
  },
  {
   "cell_type": "code",
   "execution_count": 49,
   "metadata": {},
   "outputs": [
    {
     "name": "stdout",
     "output_type": "stream",
     "text": [
      "['Negativo'] - RT @TiaDoZap5: São  todos bundões mesmo!!! Jornalista  que mente, distorce,  esconde,  inventa,  nega a verdade  nem caráter  tem. Chama -l…\n",
      "\n",
      "['Neutro'] - RT @marcelloneves72: Por tudo que a imprensa faz há 601 dias com o Presidente Bolsonaro, chama-los  de BUNDÕES, ele está sendo muito genero…\n",
      "\n",
      "['Neutro'] - RT @z_furtado1: O @LulaOficial e a @dilmabr sempre trataram todos os jornalistas com muita atenção e carinho.Foram barbaramente injustiçado…\n",
      "\n",
      "['Neutro'] - RT @BeccaJB38: Enquanto estamos dando porrada na globo e nos blogueiros bundões o Maia e o Alcolumbre estão articulando com o STF a reeleiç…\n",
      "\n",
      "['Neutro'] - RT @reinaldoazevedo: Na fala de @jairbolsonaro , o vírus vira seu aliado contra “jornalistas bundoes”.  Art. 268 do Código Penal pune quem…\n",
      "\n",
      "['Neutro'] - RT @syllavol6: O NOME DELE ERA JACOB BLACK! UMA PETIÇÃO ESTÁ ROLANDO SOBRE ESSE CASO (PETIÇÃO PARA ACUSAR OS POLICIAIS) ASSINEM E COMPARTIL…\n",
      "\n",
      "['Neutro'] - RT @misforminho: felix de cropped, seungmin quase me matando com essa roupa, blue hair do jeongin, topete vermelho do chan, seungmin de bla…\n",
      "\n",
      "['Neutro'] - RT @LilUziTheu: se vc chama a arena corinthians de itaquerão, vc é um tremendo filho da puta\n",
      "\n",
      "['Neutro'] - RT @Oledobrasil: BOMBA! Verdadeiro dono do Itaquerão, Guarani do Paraguai não aprova valores e trava acordo de naming rights.\n",
      "\n",
      "['Neutro'] - @magazineluiza Nome oficial é Itaquerão da Odebrecht\n",
      "\n",
      "['Neutro'] - RT @Doente98715: Eles têm prazer em falar Itaquerão porque são maquiavélicos odiosos e pejorativos! E não aceitam o sucesso do Corinthians…\n",
      "\n",
      "['Neutro'] - RT @palmeirasonline: É Itaquerão, sim. E se reclamar chamamos de Estádio Municipal de Itaquera\n",
      "\n",
      "['Neutro'] - @portalR7 Itaquerao é  a puta da sua mãe  seu idiota\n",
      "\n",
      "['Neutro'] - @JooVict90825370 @CeboIinhaaa @magazineluiza Pelo menos tem um nome e entra dinheiro né.\n",
      "Já no Itaquerão (o nome é… https://t.co/mHqLPoVP4x\n",
      "\n",
      "['Negativo'] - @felipecor12 @stay_storm @valoreconomico Não esqueça que o Itaquerão foi construído com dinheiro público! Todo bras… https://t.co/nwx7DlSssa\n",
      "\n",
      "['Neutro'] - RT @rocha_arthurt: Dodi, Lucas claro e mp. O senhor @oflumedomina vai perder os 3 de graça??\n",
      "\n",
      "['Neutro'] - RT @gfcyeonjun: bighit sua filha da puta você tem DOIS grupos vc não pode apenas divulgar um você tem que divulgar OS DOIS caralho toma rum…\n",
      "\n",
      "['Positivo'] - RT @lipseokie: a bighit não é a única culpada pelo descaso da hyung line; a thread https://t.co/3CLG5G87aI\n",
      "\n",
      "['Neutro'] - Sei nem oq pensar sobre isso mas bighit de um jeito minha filha pelo amor de deus\n",
      "\n",
      "['Neutro'] - RT @gmanfrinatti: o mundo começou a piorar quando a gente parou de ouvir mc lan\n",
      "\n",
      "['Positivo'] - @_bibiasantos13 ler losurdo com mc lan no último\n",
      "\n",
      "['Neutro'] - RT @raafbro: o brasil começou a afundar quando o mc lan parou de lançar som toda semana\n",
      "\n",
      "['Neutro'] - RT @eufiliipe: ai sem neurose a vida era mais feliz quando o mc lan lançava 10 músicas por dia\n",
      "\n",
      "['Neutro'] - RT @RapMais: MC Carol é confirmada no jogo \"RIO - Raised In Oblivion\" ao lado da Recayd, Borges, Flacko, Azzy, Meno Tody, Mc Lan e mais! @m…\n",
      "\n",
      "['Positivo'] - RT @chimggukv: VERMELHO SEM DÚVIDAS É A COR DE JUNG HOSEOK E CONTRA FATOS NÃO HÁ ARGUMENTOS https://t.co/ORRDguaa3t\n",
      "\n",
      "['Neutro'] - @Madruga002 @BolsonaroSP @Josefer70649021 @AndreiaSadi Oi @AndreiaSadi \n",
      "Por que o doleiro Dario Messer disse que de… https://t.co/RTIzOs8S3I\n",
      "\n",
      "['Neutro'] - RT @alesilva_38: Oi @AndreiaSadi  Por que o doleiro Dario Messer disse que depositava 300mil dólares nas contas dos donos da Globo?????\n",
      "\n",
      "['Neutro'] - RT @BolsonaroSP: Oi @AndreiaSadi  Por que o doleiro Dario Messer disse que depositava 300mil dólares nas contas dos donos da Globo????? htt…\n",
      "\n",
      "['Neutro'] - @BolsonaroSP @AndreiaSadi Oi @AndreiaSadi  Por que o doleiro Dario Messer disse que depositava 300mil dólares nas c… https://t.co/xKH7G0JVtL\n",
      "\n",
      "['Neutro'] - @AndreiaSadi Oi @AndreiaSadi  Por que o doleiro Dario Messer disse que depositava 300mil dólares nas contas dos don… https://t.co/AiNMF4B9aV\n",
      "\n",
      "['Neutro'] - @Ro_Moller Oi @AndreiaSadi  Por que o doleiro Dario Messer disse que depositava 300mil dólares nas contas dos donos da Globo?????\n",
      "\n",
      "['Neutro'] - RT @bernardokuster2: Oi @AndreiaSadi  Por que o doleiro Dario Messer disse que depositava 300mil dólares nas contas dos donos da Globo?????\n",
      "\n",
      "['Neutro'] - Oi @majucoutinho Por que o doleiro Dario Messer disse que depositava 300mil dólares nas contas dos donos da Globo??… https://t.co/ATgb56PJiA\n",
      "\n",
      "['Neutro'] - RT @adrianotomasoni: Oi @AndreiaSadi  Por que o doleiro Dario Messer disse que depositava 300mil dólares nas contas dos donos da Globo?????\n",
      "\n",
      "['Neutro'] - RT @Ale_alebts: @BolsonaroSP @AndreiaSadi Oi @AndreiaSadi vc perguntou para a @miriamleitao pq a @RedeGlobo fez esquema com o Dario Messer?…\n",
      "\n",
      "['Neutro'] - @AndreiaSadi Oi @AndreiaSadi  Por que o doleiro Dario Messer disse que depositava 300mil dólares nas contas dos donos da Globo ?\n",
      "\n",
      "['Neutro'] - @jornaldarecord @allanldsantos Oi @AndreiaSadi  Por que o doleiro Dario Messer disse que depositava 300mil dólares… https://t.co/5dx09sR9hv\n",
      "\n",
      "['Neutro'] - RT @portalkatyperry: Em comemoração aos 10 anos do álbum 'Teenage Dream', Katy Perry atualizou os clipes da era no YouTube para qualidade 4…\n",
      "\n",
      "['Neutro'] - RT @RafaOdeiaRinite: Ontem eu vi um post que era tipo \"Precisamos falar sobre Michael Scott\", falando o quanto ele era racista e isso e aqu…\n",
      "\n",
      "['Neutro'] - é um absurdo ENORME compararem Michael Scott com um ser tão desprezível que é o bolsonazi!\n",
      "\n",
      "['Neutro'] - @dhiogorevert Pelo tempo que te conheço, você é o Michael Scott. E o Michael das cenas mais pesadas.\n",
      "\n",
      "['Neutro'] - RT @ivanildo_iii: O mundo é um lugar em que o @Mises_Brasil disponibiliza vários dos seus livros de graça na internet, e a editora Boitempo…\n",
      "\n",
      "['Neutro'] - defende a não tributação dos livros, mas fica atacando o trabalho da Boitempo.\n",
      "\n",
      "enfim, a hipocrisia\n",
      "\n",
      "['Neutro'] - RT @_Zamiliano: O que eu gosto da galera que tá pirando com a Boitempo é que eles tem o imaginário de que a empresa é uma parada gigantesca…\n",
      "\n",
      "['Negativo'] - RT @pedrinun: A Boitempo não tem uma política de distribuição gratuita de livros digitais, mas a Expressão Popular (@expressaopop) tem!\n",
      "\n",
      "Co…\n",
      "\n",
      "['Neutro'] - RT @editoraboitempo: (arte de Ronaldo Alves)\n",
      "\n",
      "Pelo acesso à cultura, contra a taxação de 12% sobre os livros!\n",
      "\n",
      "Saiba mais sobre o mercado e…\n",
      "\n",
      "['Neutro'] - RT @JoaoLoque: @rothberta_ @editoraboitempo Peraí, a Amazon capitalista malvadona libera de graça os livros que a Boitempo VENDE AO PROLETA…\n",
      "\n",
      "['Neutro'] - RT @Rconstantino: O que é pior: ser chamado de bundão, ou de genocida e nazista?\n",
      "\n",
      "['Negativo'] - RT @Haddad_Fernando: É bundão que chama o cara que foge de debate?\n",
      "\n",
      "['Negativo'] - RT @marciatiburi: O presidente @jairbolsonaro usou o termo \"bundão\" para se referir às vítimas de #COVID19 , mas não explicou por que Miche…\n",
      "\n"
     ]
    }
   ],
   "source": [
    "df_tweets = list(df['TWEET'])\n",
    "for i in range(100,150):\n",
    "    predict = classifica_tweets(df_tweets[i])\n",
    "    print(f\"{predict} - {df_tweets[i]}\\n\")"
   ]
  },
  {
   "cell_type": "markdown",
   "metadata": {},
   "source": [
    "## ingnore daqui pra baixo"
   ]
  },
  {
   "cell_type": "code",
   "execution_count": null,
   "metadata": {},
   "outputs": [],
   "source": [
    "def clean()"
   ]
  },
  {
   "cell_type": "code",
   "execution_count": 63,
   "metadata": {},
   "outputs": [],
   "source": [
    "#df = df.drop(columns = ['DATA_TWEET'])\n",
    "df.to_csv('./files test/tweets_classificados.csv')\n",
    "#df['Classificacao'] = '-'\n"
   ]
  }
 ],
 "metadata": {
  "kernelspec": {
   "display_name": "Python 3",
   "language": "python",
   "name": "python3"
  },
  "language_info": {
   "codemirror_mode": {
    "name": "ipython",
    "version": 3
   },
   "file_extension": ".py",
   "mimetype": "text/x-python",
   "name": "python",
   "nbconvert_exporter": "python",
   "pygments_lexer": "ipython3",
   "version": "3.8.3"
  }
 },
 "nbformat": 4,
 "nbformat_minor": 4
}
