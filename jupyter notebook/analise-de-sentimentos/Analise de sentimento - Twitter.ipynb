{
 "cells": [
  {
   "cell_type": "code",
   "execution_count": null,
   "metadata": {},
   "outputs": [
    {
     "output_type": "error",
     "ename": "Error",
     "evalue": "Jupyter cannot be started. Error attempting to locate jupyter: Data Science libraries jupyter and notebook are not installed in interpreter Python 3.9.1 64-bit.",
     "traceback": [
      "Error: Jupyter cannot be started. Error attempting to locate jupyter: Data Science libraries jupyter and notebook are not installed in interpreter Python 3.9.1 64-bit.",
      "at w.startServer (/home/renato/.vscode/extensions/ms-toolsai.jupyter-2020.12.414227025/out/client/extension.js:49:379970)",
      "at runMicrotasks (<anonymous>)",
      "at processTicksAndRejections (internal/process/task_queues.js:94:5)",
      "at async w.createServer (/home/renato/.vscode/extensions/ms-toolsai.jupyter-2020.12.414227025/out/client/extension.js:49:379268)",
      "at async connect (/home/renato/.vscode/extensions/ms-toolsai.jupyter-2020.12.414227025/out/client/extension.js:49:504021)",
      "at async f.ensureConnectionAndNotebookImpl (/home/renato/.vscode/extensions/ms-toolsai.jupyter-2020.12.414227025/out/client/extension.js:32:590192)",
      "at async f.ensureConnectionAndNotebook (/home/renato/.vscode/extensions/ms-toolsai.jupyter-2020.12.414227025/out/client/extension.js:32:588656)",
      "at async f.clearResult (/home/renato/.vscode/extensions/ms-toolsai.jupyter-2020.12.414227025/out/client/extension.js:32:584410)",
      "at async f.reexecuteCell (/home/renato/.vscode/extensions/ms-toolsai.jupyter-2020.12.414227025/out/client/extension.js:9:171119)",
      "at async f.reexecuteCells (/home/renato/.vscode/extensions/ms-toolsai.jupyter-2020.12.414227025/out/client/extension.js:9:167423)"
     ]
    }
   ],
   "source": [
    "print(\"Hello world\")"
   ]
  },
  {
   "cell_type": "code",
   "execution_count": 1,
   "metadata": {},
   "outputs": [
    {
     "output_type": "error",
     "ename": "Error",
     "evalue": "Jupyter cannot be started. Error attempting to locate jupyter: Data Science libraries jupyter and notebook are not installed in interpreter Python 3.9.1 64-bit.",
     "traceback": [
      "Error: Jupyter cannot be started. Error attempting to locate jupyter: Data Science libraries jupyter and notebook are not installed in interpreter Python 3.9.1 64-bit.",
      "at w.startServer (/home/renato/.vscode/extensions/ms-toolsai.jupyter-2020.12.414227025/out/client/extension.js:49:379970)",
      "at async w.createServer (/home/renato/.vscode/extensions/ms-toolsai.jupyter-2020.12.414227025/out/client/extension.js:49:379268)",
      "at async connect (/home/renato/.vscode/extensions/ms-toolsai.jupyter-2020.12.414227025/out/client/extension.js:49:504021)",
      "at async f.ensureConnectionAndNotebookImpl (/home/renato/.vscode/extensions/ms-toolsai.jupyter-2020.12.414227025/out/client/extension.js:32:590192)",
      "at async f.ensureConnectionAndNotebook (/home/renato/.vscode/extensions/ms-toolsai.jupyter-2020.12.414227025/out/client/extension.js:32:588656)",
      "at async f.clearResult (/home/renato/.vscode/extensions/ms-toolsai.jupyter-2020.12.414227025/out/client/extension.js:32:584410)",
      "at async f.reexecuteCell (/home/renato/.vscode/extensions/ms-toolsai.jupyter-2020.12.414227025/out/client/extension.js:9:171119)",
      "at async f.reexecuteCells (/home/renato/.vscode/extensions/ms-toolsai.jupyter-2020.12.414227025/out/client/extension.js:9:167423)"
     ]
    }
   ],
   "source": [
    "# baseado em - https://www.kaggle.com/leandrodoze/sentiment-analysis-in-portuguese\n",
    "#imports\n",
    "import nltk\n",
    "import re\n",
    "import pandas as pd\n",
    "from sklearn.feature_extraction.text import CountVectorizer\n",
    "from sklearn.naive_bayes import MultinomialNB\n",
    "from sklearn import metrics\n",
    "from sklearn.model_selection import cross_val_predict\n",
    "import numpy as np\n"
   ]
  },
  {
   "cell_type": "code",
   "execution_count": 2,
   "metadata": {},
   "outputs": [
    {
     "data": {
      "text/html": [
       "<div>\n",
       "<style scoped>\n",
       "    .dataframe tbody tr th:only-of-type {\n",
       "        vertical-align: middle;\n",
       "    }\n",
       "\n",
       "    .dataframe tbody tr th {\n",
       "        vertical-align: top;\n",
       "    }\n",
       "\n",
       "    .dataframe thead th {\n",
       "        text-align: right;\n",
       "    }\n",
       "</style>\n",
       "<table border=\"1\" class=\"dataframe\">\n",
       "  <thead>\n",
       "    <tr style=\"text-align: right;\">\n",
       "      <th></th>\n",
       "      <th>id</th>\n",
       "      <th>text_en</th>\n",
       "      <th>text_pt</th>\n",
       "      <th>sentiment</th>\n",
       "    </tr>\n",
       "  </thead>\n",
       "  <tbody>\n",
       "    <tr>\n",
       "      <th>0</th>\n",
       "      <td>1</td>\n",
       "      <td>Once again Mr. Costner has dragged out a movie...</td>\n",
       "      <td>Mais uma vez, o Sr. Costner arrumou um filme p...</td>\n",
       "      <td>neg</td>\n",
       "    </tr>\n",
       "    <tr>\n",
       "      <th>1</th>\n",
       "      <td>2</td>\n",
       "      <td>This is an example of why the majority of acti...</td>\n",
       "      <td>Este é um exemplo do motivo pelo qual a maiori...</td>\n",
       "      <td>neg</td>\n",
       "    </tr>\n",
       "    <tr>\n",
       "      <th>2</th>\n",
       "      <td>3</td>\n",
       "      <td>First of all I hate those moronic rappers, who...</td>\n",
       "      <td>Primeiro de tudo eu odeio esses raps imbecis, ...</td>\n",
       "      <td>neg</td>\n",
       "    </tr>\n",
       "    <tr>\n",
       "      <th>3</th>\n",
       "      <td>4</td>\n",
       "      <td>Not even the Beatles could write songs everyon...</td>\n",
       "      <td>Nem mesmo os Beatles puderam escrever músicas ...</td>\n",
       "      <td>neg</td>\n",
       "    </tr>\n",
       "    <tr>\n",
       "      <th>4</th>\n",
       "      <td>5</td>\n",
       "      <td>Brass pictures movies is not a fitting word fo...</td>\n",
       "      <td>Filmes de fotos de latão não é uma palavra apr...</td>\n",
       "      <td>neg</td>\n",
       "    </tr>\n",
       "  </tbody>\n",
       "</table>\n",
       "</div>"
      ],
      "text/plain": [
       "   id                                            text_en  \\\n",
       "0   1  Once again Mr. Costner has dragged out a movie...   \n",
       "1   2  This is an example of why the majority of acti...   \n",
       "2   3  First of all I hate those moronic rappers, who...   \n",
       "3   4  Not even the Beatles could write songs everyon...   \n",
       "4   5  Brass pictures movies is not a fitting word fo...   \n",
       "\n",
       "                                             text_pt sentiment  \n",
       "0  Mais uma vez, o Sr. Costner arrumou um filme p...       neg  \n",
       "1  Este é um exemplo do motivo pelo qual a maiori...       neg  \n",
       "2  Primeiro de tudo eu odeio esses raps imbecis, ...       neg  \n",
       "3  Nem mesmo os Beatles puderam escrever músicas ...       neg  \n",
       "4  Filmes de fotos de latão não é uma palavra apr...       neg  "
      ]
     },
     "execution_count": 2,
     "metadata": {},
     "output_type": "execute_result"
    }
   ],
   "source": [
    "# https://www.kaggle.com/luisfredgs/imdb-ptbr\n",
    "dataset = pd.read_csv('/home/renato/Documentos/imdb-reviews-pt-br.csv')\n",
    "dataset.head()"
   ]
  },
  {
   "cell_type": "code",
   "execution_count": 3,
   "metadata": {},
   "outputs": [
    {
     "data": {
      "text/plain": [
       "Positivo    3300\n",
       "Neutro      2453\n",
       "Negativo    2446\n",
       "Name: Classificacao, dtype: int64"
      ]
     },
     "execution_count": 3,
     "metadata": {},
     "output_type": "execute_result"
    }
   ],
   "source": [
    "df2 = pd.read_csv('./files test/Tweets_Mg.csv')\n",
    "df2['Classificacao'].value_counts()"
   ]
  },
  {
   "cell_type": "markdown",
   "metadata": {},
   "source": [
    "## Unir os dois dataframe para teste"
   ]
  },
  {
   "cell_type": "code",
   "execution_count": 4,
   "metadata": {},
   "outputs": [],
   "source": [
    "rm_df2 = [x for x in list(df2.columns) if x not in ['Text','Classificacao']]"
   ]
  },
  {
   "cell_type": "code",
   "execution_count": 5,
   "metadata": {},
   "outputs": [],
   "source": [
    "#deixa os dois df com o mesmo numero de colunas\n",
    "df = dataset.drop(columns=['text_en','id'])\n",
    "df2 = df2.drop(columns=rm_df2)"
   ]
  },
  {
   "cell_type": "code",
   "execution_count": 6,
   "metadata": {},
   "outputs": [
    {
     "data": {
      "text/html": [
       "<div>\n",
       "<style scoped>\n",
       "    .dataframe tbody tr th:only-of-type {\n",
       "        vertical-align: middle;\n",
       "    }\n",
       "\n",
       "    .dataframe tbody tr th {\n",
       "        vertical-align: top;\n",
       "    }\n",
       "\n",
       "    .dataframe thead th {\n",
       "        text-align: right;\n",
       "    }\n",
       "</style>\n",
       "<table border=\"1\" class=\"dataframe\">\n",
       "  <thead>\n",
       "    <tr style=\"text-align: right;\">\n",
       "      <th></th>\n",
       "      <th>text_pt</th>\n",
       "      <th>sentiment</th>\n",
       "    </tr>\n",
       "  </thead>\n",
       "  <tbody>\n",
       "    <tr>\n",
       "      <th>0</th>\n",
       "      <td>Mais uma vez, o Sr. Costner arrumou um filme p...</td>\n",
       "      <td>Negativo</td>\n",
       "    </tr>\n",
       "    <tr>\n",
       "      <th>1</th>\n",
       "      <td>Este é um exemplo do motivo pelo qual a maiori...</td>\n",
       "      <td>Negativo</td>\n",
       "    </tr>\n",
       "    <tr>\n",
       "      <th>2</th>\n",
       "      <td>Primeiro de tudo eu odeio esses raps imbecis, ...</td>\n",
       "      <td>Negativo</td>\n",
       "    </tr>\n",
       "    <tr>\n",
       "      <th>3</th>\n",
       "      <td>Nem mesmo os Beatles puderam escrever músicas ...</td>\n",
       "      <td>Negativo</td>\n",
       "    </tr>\n",
       "    <tr>\n",
       "      <th>4</th>\n",
       "      <td>Filmes de fotos de latão não é uma palavra apr...</td>\n",
       "      <td>Negativo</td>\n",
       "    </tr>\n",
       "    <tr>\n",
       "      <th>...</th>\n",
       "      <td>...</td>\n",
       "      <td>...</td>\n",
       "    </tr>\n",
       "    <tr>\n",
       "      <th>49454</th>\n",
       "      <td>Como a média de votos era muito baixa, e o fat...</td>\n",
       "      <td>Positivo</td>\n",
       "    </tr>\n",
       "    <tr>\n",
       "      <th>49455</th>\n",
       "      <td>O enredo teve algumas reviravoltas infelizes e...</td>\n",
       "      <td>Positivo</td>\n",
       "    </tr>\n",
       "    <tr>\n",
       "      <th>49456</th>\n",
       "      <td>Estou espantado com a forma como este filme e ...</td>\n",
       "      <td>Positivo</td>\n",
       "    </tr>\n",
       "    <tr>\n",
       "      <th>49457</th>\n",
       "      <td>A Christmas Together realmente veio antes do m...</td>\n",
       "      <td>Positivo</td>\n",
       "    </tr>\n",
       "    <tr>\n",
       "      <th>49458</th>\n",
       "      <td>O drama romântico da classe trabalhadora do di...</td>\n",
       "      <td>Positivo</td>\n",
       "    </tr>\n",
       "  </tbody>\n",
       "</table>\n",
       "<p>49459 rows × 2 columns</p>\n",
       "</div>"
      ],
      "text/plain": [
       "                                                 text_pt sentiment\n",
       "0      Mais uma vez, o Sr. Costner arrumou um filme p...  Negativo\n",
       "1      Este é um exemplo do motivo pelo qual a maiori...  Negativo\n",
       "2      Primeiro de tudo eu odeio esses raps imbecis, ...  Negativo\n",
       "3      Nem mesmo os Beatles puderam escrever músicas ...  Negativo\n",
       "4      Filmes de fotos de latão não é uma palavra apr...  Negativo\n",
       "...                                                  ...       ...\n",
       "49454  Como a média de votos era muito baixa, e o fat...  Positivo\n",
       "49455  O enredo teve algumas reviravoltas infelizes e...  Positivo\n",
       "49456  Estou espantado com a forma como este filme e ...  Positivo\n",
       "49457  A Christmas Together realmente veio antes do m...  Positivo\n",
       "49458  O drama romântico da classe trabalhadora do di...  Positivo\n",
       "\n",
       "[49459 rows x 2 columns]"
      ]
     },
     "execution_count": 6,
     "metadata": {},
     "output_type": "execute_result"
    }
   ],
   "source": [
    "#deixa as colunas de sentimentos igual a do outro df\n",
    "df['sentiment'] = df['sentiment'].str.replace('neg', 'Negativo')\n",
    "df['sentiment'] = df['sentiment'].str.replace('pos', 'Positivo')\n",
    "df"
   ]
  },
  {
   "cell_type": "code",
   "execution_count": 7,
   "metadata": {},
   "outputs": [
    {
     "data": {
      "text/html": [
       "<div>\n",
       "<style scoped>\n",
       "    .dataframe tbody tr th:only-of-type {\n",
       "        vertical-align: middle;\n",
       "    }\n",
       "\n",
       "    .dataframe tbody tr th {\n",
       "        vertical-align: top;\n",
       "    }\n",
       "\n",
       "    .dataframe thead th {\n",
       "        text-align: right;\n",
       "    }\n",
       "</style>\n",
       "<table border=\"1\" class=\"dataframe\">\n",
       "  <thead>\n",
       "    <tr style=\"text-align: right;\">\n",
       "      <th></th>\n",
       "      <th>Text</th>\n",
       "      <th>Polaridade</th>\n",
       "    </tr>\n",
       "  </thead>\n",
       "  <tbody>\n",
       "    <tr>\n",
       "      <th>0</th>\n",
       "      <td>Mais uma vez, o Sr. Costner arrumou um filme p...</td>\n",
       "      <td>Negativo</td>\n",
       "    </tr>\n",
       "    <tr>\n",
       "      <th>1</th>\n",
       "      <td>Este é um exemplo do motivo pelo qual a maiori...</td>\n",
       "      <td>Negativo</td>\n",
       "    </tr>\n",
       "    <tr>\n",
       "      <th>2</th>\n",
       "      <td>Primeiro de tudo eu odeio esses raps imbecis, ...</td>\n",
       "      <td>Negativo</td>\n",
       "    </tr>\n",
       "    <tr>\n",
       "      <th>3</th>\n",
       "      <td>Nem mesmo os Beatles puderam escrever músicas ...</td>\n",
       "      <td>Negativo</td>\n",
       "    </tr>\n",
       "    <tr>\n",
       "      <th>4</th>\n",
       "      <td>Filmes de fotos de latão não é uma palavra apr...</td>\n",
       "      <td>Negativo</td>\n",
       "    </tr>\n",
       "    <tr>\n",
       "      <th>...</th>\n",
       "      <td>...</td>\n",
       "      <td>...</td>\n",
       "    </tr>\n",
       "    <tr>\n",
       "      <th>8194</th>\n",
       "      <td>Trio é preso suspeito de roubo, tráfico e abus...</td>\n",
       "      <td>Positivo</td>\n",
       "    </tr>\n",
       "    <tr>\n",
       "      <th>8195</th>\n",
       "      <td>Trio é preso suspeito de roubo, tráfico e abus...</td>\n",
       "      <td>Positivo</td>\n",
       "    </tr>\n",
       "    <tr>\n",
       "      <th>8196</th>\n",
       "      <td>Trio é preso suspeito de roubo, tráfico e abus...</td>\n",
       "      <td>Positivo</td>\n",
       "    </tr>\n",
       "    <tr>\n",
       "      <th>8197</th>\n",
       "      <td>Trio é preso suspeito de roubo, tráfico e abus...</td>\n",
       "      <td>Positivo</td>\n",
       "    </tr>\n",
       "    <tr>\n",
       "      <th>8198</th>\n",
       "      <td>Trio suspeito de roubo de cargas é preso em Sa...</td>\n",
       "      <td>Positivo</td>\n",
       "    </tr>\n",
       "  </tbody>\n",
       "</table>\n",
       "<p>57658 rows × 2 columns</p>\n",
       "</div>"
      ],
      "text/plain": [
       "                                                   Text Polaridade\n",
       "0     Mais uma vez, o Sr. Costner arrumou um filme p...   Negativo\n",
       "1     Este é um exemplo do motivo pelo qual a maiori...   Negativo\n",
       "2     Primeiro de tudo eu odeio esses raps imbecis, ...   Negativo\n",
       "3     Nem mesmo os Beatles puderam escrever músicas ...   Negativo\n",
       "4     Filmes de fotos de latão não é uma palavra apr...   Negativo\n",
       "...                                                 ...        ...\n",
       "8194  Trio é preso suspeito de roubo, tráfico e abus...   Positivo\n",
       "8195  Trio é preso suspeito de roubo, tráfico e abus...   Positivo\n",
       "8196  Trio é preso suspeito de roubo, tráfico e abus...   Positivo\n",
       "8197  Trio é preso suspeito de roubo, tráfico e abus...   Positivo\n",
       "8198  Trio suspeito de roubo de cargas é preso em Sa...   Positivo\n",
       "\n",
       "[57658 rows x 2 columns]"
      ]
     },
     "execution_count": 7,
     "metadata": {},
     "output_type": "execute_result"
    }
   ],
   "source": [
    "# concatena os dois df\n",
    "df.columns = ['Text', 'Polaridade']\n",
    "df2.columns = ['Text', 'Polaridade']\n",
    "df_concat = pd.concat([df,df2])\n",
    "df_concat"
   ]
  },
  {
   "cell_type": "code",
   "execution_count": 8,
   "metadata": {},
   "outputs": [
    {
     "data": {
      "text/plain": [
       "Positivo    27994\n",
       "Negativo    27211\n",
       "Neutro       2453\n",
       "Name: Polaridade, dtype: int64"
      ]
     },
     "execution_count": 8,
     "metadata": {},
     "output_type": "execute_result"
    }
   ],
   "source": [
    "df_concat['Polaridade'].value_counts()"
   ]
  },
  {
   "cell_type": "markdown",
   "metadata": {},
   "source": [
    "## Construindo o modelo"
   ]
  },
  {
   "cell_type": "code",
   "execution_count": 9,
   "metadata": {},
   "outputs": [],
   "source": [
    "tweets = df_concat[\"Text\"].values\n",
    "#tweets"
   ]
  },
  {
   "cell_type": "code",
   "execution_count": 10,
   "metadata": {},
   "outputs": [
    {
     "data": {
      "text/plain": [
       "array(['Negativo', 'Negativo', 'Negativo', ..., 'Positivo', 'Positivo',\n",
       "       'Positivo'], dtype=object)"
      ]
     },
     "execution_count": 10,
     "metadata": {},
     "output_type": "execute_result"
    }
   ],
   "source": [
    "classes = df_concat[\"Polaridade\"].values\n",
    "classes"
   ]
  },
  {
   "cell_type": "code",
   "execution_count": 11,
   "metadata": {},
   "outputs": [
    {
     "data": {
      "text/plain": [
       "MultinomialNB()"
      ]
     },
     "execution_count": 11,
     "metadata": {},
     "output_type": "execute_result"
    }
   ],
   "source": [
    "# Agora, vamos treinar o modelo usando a abordagem Bag of Words e o algoritmo Naive Bayes Multinomial\n",
    "#    - Bag of Words, na prática, cria um vetor com cada uma das palavras do texto completo da base,\n",
    "#      depois, calcula a frequência em que essas palavras ocorrem em uma data sentença, para então\n",
    "#      classificar/treinar o modelo\n",
    "#    - Exemplo HIPOTÉTICO de três sentenças vetorizadas \"por palavra\" e classificadas baseada na\n",
    "#      frequência de suas palavras:\n",
    "#         {0,3,2,0,0,1,0,0,0,1, Positivo}\n",
    "#         {0,0,1,0,0,1,0,1,0,0, Negativo}\n",
    "#         {0,1,1,0,0,1,0,0,0,0, Neutro}\n",
    "#    - Olhando para esses vetores, meu palpite é que as palavras nas posições 2 e 3 são as com maior\n",
    "#      peso na determinação de a que classe pertence cada uma das três sentenças avaliadas\n",
    "#    - A função fit_transform faz exatamente esse processo: ajusta o modelo, aprende o vocabulário,\n",
    "#      e transforma os dados de treinamento em feature vectors, a.k.a. vetor com frequêcia das palavras\n",
    "\n",
    "vectorizer = CountVectorizer(analyzer = \"word\")\n",
    "freq_tweets = vectorizer.fit_transform(tweets)\n",
    "\n",
    "modelo = MultinomialNB()\n",
    "modelo.fit(freq_tweets, classes)"
   ]
  },
  {
   "cell_type": "markdown",
   "metadata": {},
   "source": [
    "## Testando o Modelo"
   ]
  },
  {
   "cell_type": "code",
   "execution_count": 8,
   "metadata": {},
   "outputs": [
    {
     "data": {
      "text/plain": [
       "array(['pos'], dtype='<U3')"
      ]
     },
     "execution_count": 8,
     "metadata": {},
     "output_type": "execute_result"
    }
   ],
   "source": [
    "\n",
    "\n",
    "# Vamos usar algumas frases de teste para fazer a classificação com o modelo treinado\n",
    "testes = [\"Bom dia, que Hoje  e sexta\"]\n",
    "\n",
    "freq_testes = vectorizer.transform(testes)\n",
    "modelo.predict(freq_testes)"
   ]
  },
  {
   "cell_type": "code",
   "execution_count": 12,
   "metadata": {},
   "outputs": [
    {
     "data": {
      "text/plain": [
       "0.7260050643449305"
      ]
     },
     "execution_count": 12,
     "metadata": {},
     "output_type": "execute_result"
    }
   ],
   "source": [
    "# Validação cruzada do modelo. Neste caso, o modelo é dividido em 10 partes, treinado em 9 e testado em 1\n",
    "resultados = cross_val_predict(modelo, freq_tweets, classes, cv = 10)\n",
    "# Quão acurada é a média do modelo?\n",
    "metrics.accuracy_score(classes, resultados)\n"
   ]
  },
  {
   "cell_type": "markdown",
   "metadata": {},
   "source": [
    "## Testando com outra base de dados"
   ]
  },
  {
   "cell_type": "code",
   "execution_count": 13,
   "metadata": {},
   "outputs": [
    {
     "data": {
      "text/html": [
       "<div>\n",
       "<style scoped>\n",
       "    .dataframe tbody tr th:only-of-type {\n",
       "        vertical-align: middle;\n",
       "    }\n",
       "\n",
       "    .dataframe tbody tr th {\n",
       "        vertical-align: top;\n",
       "    }\n",
       "\n",
       "    .dataframe thead th {\n",
       "        text-align: right;\n",
       "    }\n",
       "</style>\n",
       "<table border=\"1\" class=\"dataframe\">\n",
       "  <thead>\n",
       "    <tr style=\"text-align: right;\">\n",
       "      <th></th>\n",
       "      <th>ID</th>\n",
       "      <th>USUARIO</th>\n",
       "      <th>TWEET</th>\n",
       "      <th>DATA_TWEET</th>\n",
       "    </tr>\n",
       "  </thead>\n",
       "  <tbody>\n",
       "    <tr>\n",
       "      <th>0</th>\n",
       "      <td>1</td>\n",
       "      <td>barbarabenitesv</td>\n",
       "      <td>@giucostaa_ mas isso é muito tu né, não é só n...</td>\n",
       "      <td>2020-10-22 11:29:23</td>\n",
       "    </tr>\n",
       "    <tr>\n",
       "      <th>1</th>\n",
       "      <td>2</td>\n",
       "      <td>GORLSZ</td>\n",
       "      <td>@Alule1810 @Data24comar @cadenainforma Está bi...</td>\n",
       "      <td>2020-10-22 11:29:23</td>\n",
       "    </tr>\n",
       "    <tr>\n",
       "      <th>2</th>\n",
       "      <td>3</td>\n",
       "      <td>Carito_Cabrera7</td>\n",
       "      <td>@romanfolli Idem tesorero??</td>\n",
       "      <td>2020-10-22 11:29:24</td>\n",
       "    </tr>\n",
       "    <tr>\n",
       "      <th>3</th>\n",
       "      <td>4</td>\n",
       "      <td>driego22</td>\n",
       "      <td>também, tudo tem que ficar escrevendo agora</td>\n",
       "      <td>2020-10-22 11:29:25</td>\n",
       "    </tr>\n",
       "    <tr>\n",
       "      <th>4</th>\n",
       "      <td>5</td>\n",
       "      <td>mgeissler</td>\n",
       "      <td>♥️</td>\n",
       "      <td>2020-10-22 11:29:25</td>\n",
       "    </tr>\n",
       "  </tbody>\n",
       "</table>\n",
       "</div>"
      ],
      "text/plain": [
       "  ID          USUARIO                                              TWEET  \\\n",
       "0  1  barbarabenitesv  @giucostaa_ mas isso é muito tu né, não é só n...   \n",
       "1  2           GORLSZ  @Alule1810 @Data24comar @cadenainforma Está bi...   \n",
       "2  3  Carito_Cabrera7                        @romanfolli Idem tesorero??   \n",
       "3  4         driego22        também, tudo tem que ficar escrevendo agora   \n",
       "4  5        mgeissler                                                 ♥️   \n",
       "\n",
       "            DATA_TWEET  \n",
       "0  2020-10-22 11:29:23  \n",
       "1  2020-10-22 11:29:23  \n",
       "2  2020-10-22 11:29:24  \n",
       "3  2020-10-22 11:29:25  \n",
       "4  2020-10-22 11:29:25  "
      ]
     },
     "execution_count": 13,
     "metadata": {},
     "output_type": "execute_result"
    }
   ],
   "source": [
    "df = pd.read_csv('../Dados coletados/Twitter_streaming.csv', low_memory=False)\n",
    "df.head()"
   ]
  },
  {
   "cell_type": "code",
   "execution_count": 14,
   "metadata": {},
   "outputs": [],
   "source": [
    "def classifica_tweets(tweet):\n",
    "    tweet = [tweet]\n",
    "    freq_testes = vectorizer.transform(tweet)\n",
    "    return modelo.predict(freq_testes)"
   ]
  },
  {
   "cell_type": "code",
   "execution_count": 38,
   "metadata": {},
   "outputs": [
    {
     "name": "stdout",
     "output_type": "stream",
     "text": [
      "['Negativo'] - @NerdBoomer A única luta bem desenvolvida em meninas superpoderosas foi no filme, de resto eram as mesmas sequências de golpes por episódio.\n",
      "\n",
      "['Negativo'] - @gustavogomez462 @Palmeiras Parabéns monstro continue assim com essa categoria e raça....\n",
      "\n",
      "['Positivo'] - Voltar a correr é sempre muito bom!!! Para o corpo e para a alma... em Lagoa da Pampulha https://t.co/ENGqqNNxaL\n",
      "\n",
      "['Positivo'] - suas escolhas, suas consequências\n",
      "\n",
      "['Negativo'] - @CacicAjuricaba Nós sempre temos razão. O tempo está mostrando.\n",
      "\n",
      "['Negativo'] - Couve flor pequena 5,50 quase tive um troço\n",
      "\n",
      "['Positivo'] - Bom dia pessoal!\n",
      "\n",
      "['Positivo'] - viu esse tweet poste uma mídia aleatória sua https://t.co/59XrixtjwU\n",
      "\n",
      "['Negativo'] - todo dia eu falo que vou dormir cedo\n",
      "todo dia eu falho nessa missão\n",
      "\n",
      "['Neutro'] - E vamos de Samba!\n",
      "\n",
      "Novembro é diversão......\n",
      "\n",
      "Muita roda de samba!\n",
      "\n",
      "#amosamba  #novembro  #familia  #amigos em Guar… https://t.co/p7rsNHXE5X\n",
      "\n",
      "['Negativo'] - Ninguém\n",
      "\n",
      "['Neutro'] - @Herezeq Jajajaja\n",
      "\n",
      "['Positivo'] - Eu ia me sentir sortuda demais viu\n",
      "\n",
      "['Negativo'] - Parece que me desmayo del sueño\n",
      "\n",
      "['Negativo'] - @mitags @EdemilsonLima Está certíssima.\n",
      "\n",
      "['Negativo'] - Uh AH Uh AH Uh AH !\n",
      "\n",
      "['Negativo'] - Eu fico besta quando vejo um acadêmico de direito ou um bacharel de direito que é contra os direitos do pobre , do… https://t.co/x5zepPKWev\n",
      "\n",
      "['Positivo'] - Porque viver é  sonhar com a cabeça nas nuvens e os pés no chão. em João Pessoa, Paraíba, Brasil https://t.co/ii9S5jtUTy\n",
      "\n",
      "['Negativo'] - Por isso me afastei, se mostrou uma pessoa não confiável, inconstante e invasiva.\n",
      "\n",
      "['Negativo'] - To afastado da igreja, mais nunca de Deus ❤️\n",
      "\n",
      "['Positivo'] - Pelo amor de Deus cria senso você já tem mais de 20 anos guria\n",
      "\n",
      "['Negativo'] - @eluane_ Sim!! Fico sem acreditar também\n",
      "\n",
      "['Negativo'] - Ja acordo cheio rápido  vtmnc\n",
      "\n",
      "['Positivo'] - #Abelhinha novo rit do Verão em São Paulo, Brazil https://t.co/eUUBC73v1h\n",
      "\n",
      "['Positivo'] - QUINTOU\n",
      "\n",
      "['Negativo'] - Eu fico muito pistola com sacerdote que não sabe de porra nenhuma, tirando dinheiro e proveito da bondade das pessoas!\n",
      "\n",
      "['Neutro'] - @JMilei @NicoColucci2 Felicidades genio! Saludos desde Bolivia\n",
      "\n",
      "['Negativo'] - Caraí o Vasco parece que quer se rebaixar de novo, porra!!!\n",
      "\n",
      "['Positivo'] - @rigoni_felipe Que estudo? Acreditar em uma vacina feita por um país que esconde dados, prendeu médicos e jornalist… https://t.co/BOYnur1bvr\n",
      "\n",
      "['Positivo'] - A parte boa de pegar meus dois melhores amigos é que não rola sentimentos, não rola ciúmes, e sempre tem repeteco V… https://t.co/1tpa7PE3Mk\n",
      "\n",
      "['Negativo'] - Eu jurava que o cabelo dela era cacheado até abrir a imagem. Que agonia!\n",
      "\n",
      "['Positivo'] - @_0gaitnas aKAAJWJSJD\n",
      "\n",
      "['Neutro'] - Ver pasajes es mi terapia. ✈️\n",
      "\n",
      "['Negativo'] - Ninguém entendeu nada e nem precisa só um desabafo\n",
      "\n",
      "['Positivo'] - eu vendo q tem café // eu experimentando e vendo q colocaram canela https://t.co/jeXestb5qg\n",
      "\n",
      "['Negativo'] - Confie no seu potencial toma yakult de estômago vazio\n",
      "\n",
      "['Positivo'] - To com tanta saudade da Edinele\n",
      "\n",
      "['Positivo'] - Toda manhã é uma nova chance de recomeçar\n",
      "\n",
      "['Positivo'] - @Psicogirl2 O Papa apesar de fazer a defesa da união civil ñ pode advogar pelo casamento religioso gay.  Ou seja a… https://t.co/b77kcZhdcO\n",
      "\n",
      "['Negativo'] - @LuanQuintal Foda-se com certeza hahaha\n",
      "\n",
      "['Positivo'] - @anathaismatos Aqui, nos dias em que ansiedade pega, só o combo coca-chocolate-café resolve. Daí vai até mais que c… https://t.co/LMuUnzePIa\n",
      "\n",
      "['Negativo'] - Lorenzo tá comendo pão cm a minha vó\n",
      "\n",
      "['Negativo'] - Essa mulher nunca me decpeciona, na boa!\n",
      "\n",
      "['Neutro'] - Querida PC del trabajo: así lo nuestro no va a ningún lado. no podemos arrancar todos los días así. https://t.co/U9f7ZjfsNi\n",
      "\n",
      "['Positivo'] - só tem bom dia depois da dancinha da virigina no stories, agr já pode! bom dia\n",
      "\n",
      "['Positivo'] - Uma morte impactante isso do @AroldeOliveira falecer. O curioso é eu não conseguir desassociar o atual cenário polí… https://t.co/p3k5FOhLAz\n",
      "\n",
      "['Negativo'] - @ErikaaBelchior O de geral atualizou menos o meu\n",
      "\n",
      "['Positivo'] - da melhor forma\n",
      "\n",
      "['Negativo'] - Povinho pra fazer fuxico\n",
      "\n",
      "['Positivo'] - Ir embora, morar perto da praia e ter uma vida simples ou continuar aqui que é um estado bom pra empreender, se est… https://t.co/7CtAHQEfeK\n",
      "\n",
      "['Negativo'] - @socram_j HAHAHAHAHAHAHA! Isso mesmo.\n",
      "\n",
      "['Negativo'] - @ruanbenhuur1 pior que manjo em kkkk\n",
      "\n",
      "['Positivo'] - @braztoria Good morning sunflower ❤️\n",
      "\n",
      "['Negativo'] - @arfsthur Serve pra nada então né\n",
      "\n",
      "['Negativo'] - @o_antagonista Se ele pedir as contas terá entrado pequeno no ministério, mas sairá gigante.\n",
      "\n",
      "['Negativo'] - @Crf_b7 Carente ela kkkkkkkkk\n",
      "\n",
      "['Positivo'] - Boca aberta saindo na mão com o filho, ao som de menos é mais já pode ser considerado a melhor representação do ano eleitoral londrinense?\n",
      "\n",
      "['Negativo'] - Com o Corinthians\n",
      "Pelo Corinthians\n",
      "Com muito AMOR\n",
      "Até o fim ⚫⚪\n",
      "\n",
      "['Positivo'] - @belo_tjf\n",
      "\n",
      "['Negativo'] - Sempre tem um cara escroto da faculdade Adventista, que vai falar merda pela boca...\n",
      "O cara veio dizer que tinha um… https://t.co/krJry9K3AO\n",
      "\n",
      "['Negativo'] - essa hora e eu já to pensando na hora do almoço kkkk\n",
      "\n",
      "['Negativo'] - @Russinbc você tá mais certo q o pagode cunha\n",
      "\n",
      "['Positivo'] - Mas quando ouvi tua voz, respirei aliviado...\n",
      "\n",
      "['Negativo'] - @chefetgomu @moisesD777 @LucasTanaka Para com isso ele só \"entregou\" contra o Corinthians, e isso não é total falha… https://t.co/k8ymFoJuai\n",
      "\n",
      "['Negativo'] - Sou como o Lulu Santos. Vou vivendo, \"não desejando mal à quase ninguém\".\n",
      "\n",
      "['Neutro'] - https://t.co/MPEoSxdbdp\n",
      "\n",
      "['Positivo'] - @jantadaflatt @ChristianoGoes Minhas principais críticas ao Dome não era o esquema tático , nem o rodízio ! \n",
      "Era po… https://t.co/jHE7Lr6n7I\n",
      "\n",
      "['Positivo'] - @juancastroos Verdade, tinha esquecido do Canadá.\n",
      "\n",
      "['Positivo'] - Vamos pra mas um dia de trabalho https://t.co/dznvhNB7ST\n",
      "\n",
      "['Positivo'] - Exausto\n",
      "\n",
      "['Positivo'] - Isso é tão normal na minha vida. Minha mãe e amiga da ex mulher do meu pai, eu cresci indo na casa dela e chamando… https://t.co/W6SLzSHsHm\n",
      "\n",
      "['Neutro'] - #Sudan #photography #lifestyle\n",
      "\n",
      "['Positivo'] - Socorro, vai ter show do Thiaguinhooooooooo\n",
      "\n",
      "['Positivo'] - não gosto de não receber atenção, fico triste e me afasto mesmo\n",
      "\n",
      "['Neutro'] - @Laura_rosa___ Minha reação p tu ó\n",
      ": https://t.co/155CSPA9iW\n",
      "\n",
      "['Neutro'] - @marcosfolk @lowcade https://t.co/1FZWQJeAcN\n",
      "\n",
      "['Negativo'] - @flavioosanntos @C6Bank @nubank Agora que meu cartão saiu, vou mesmo viu.\n",
      "\n",
      "['Positivo'] - @WollingerSalete @suruagymotta Falta emprego neste momento que vivemos, mas sobra trabalho para quem quer trabalhar.\n",
      "\n",
      "['Positivo'] - Imagina chegar nessa idade c uma carreira mega consolidada e ainda fazer musica nova, eu quero chegar assim qnd for… https://t.co/Ky6sBX75v7\n",
      "\n",
      "['Negativo'] - @luzpaulitcha Só dizer sim!!!\n",
      "\n",
      "['Negativo'] - Tô dando até RT em elfa da sorte nesse instagram\n",
      "\n",
      "['Positivo'] - Recién caigo como se retwitea\n",
      "\n",
      "['Positivo'] - bom dia my little friends que o dia de vocês seja tão sensacional quanto o show do djonga\n",
      "\n",
      "['Positivo'] - @pimps_junin Vc não acha pior não ter um reserva pro Henrique faz 4 anos. Insistir no Ramon que não se recupera?\n",
      "Pa… https://t.co/VsBdJQIKLs\n",
      "\n",
      "['Positivo'] - Mozão ontem deu aula no papa fit !\n",
      "\n",
      "['Positivo'] - Junto com Seb, Lewis e Gasly, o groselha é um dos meus pilotos favoritos! Passou diversas dificuldades, tem 10 podi… https://t.co/WZkkxmjP5h\n",
      "\n",
      "['Negativo'] - alguém me acorda quando esse semestre acabar socorro\n",
      "\n",
      "['Positivo'] - @alyson_azvd .\n",
      "\n",
      "['Neutro'] - Gracias señor delincuente @TigoParaguay\n",
      "\n",
      "['Negativo'] - @radiobrasil940 Ou seja, o Va2cú antes mesmo do sorteio já está eliminado.\n",
      "\n",
      "['Negativo'] - Mal cheguei e já quero sair fora dessa cidade\n",
      "\n",
      "['Positivo'] - Acorda pra vida, garoto! https://t.co/7Ea0GZvitp\n",
      "\n",
      "['Positivo'] - A coisa que mais me enoja no mundo é amizade falsa . A pessoa entra na sua casa , tira as informações mais íntimas… https://t.co/UjRI41Bdcq\n",
      "\n",
      "['Positivo'] - Cheguei a conclusão que não escuto de máscara\n",
      "\n",
      "['Negativo'] - sweet melody até chegar no refrão é estranha kkk mas ele é onde a música explode e vc grita QUE HINO\n",
      "\n",
      "['Neutro'] - @cartamanedu  cuando lo que es tu cumple ????\n",
      "\n",
      "['Neutro'] - @maximilianoten Ser de San Lorenzo es lo peor de tu vida una maldición,  ustedes se ponen contentos cuando juega San Lorenzo???\n",
      "\n",
      "['Positivo'] - Bom dia meus botequeiros e botequeiras de cb city\n",
      "\n",
      "['Positivo'] - Eu tenho uma visão muito diferente sobre isso tudo que acontece com a Raíssa na fazenda\n",
      "\n",
      "['Negativo'] - eu já admiti meus erros e estou tentando aprender com eles, já alguns não admitem nada, falam que odeiam se vitimiz… https://t.co/uoPy1fJ5Yc\n",
      "\n",
      "['Negativo'] - Me leva pra comer sanduíche que fica tudo resolvido\n",
      "\n",
      "['Negativo'] - Bom dia que o corre não pode parar\n",
      "\n"
     ]
    },
    {
     "name": "stdout",
     "output_type": "stream",
     "text": [
      "['Negativo'] - @Guilherme_kk Bizarro\n",
      "\n",
      "['Negativo'] - @PerrazPfm @joaoamoedonovo “Ainnn, preciso reafirmar meu bolsonarismo”\n",
      "“Já sei, vou criar um fake pra chamar de gad… https://t.co/jyLNIjuQcG\n",
      "\n",
      "['Negativo'] - @bismillahrry ainda não :/\n",
      "\n",
      "['Positivo'] - @felipecf_ Melhor forma sempre\n",
      "\n",
      "['Positivo'] - Bom dia amigos #FicaMateus #aFazenda12 https://t.co/2aG6bryl1a\n",
      "\n",
      "['Positivo'] - Dica do dia: Faça o melhor que puder. Seja o melhor que puder. O resultado virá na mesma proporção de seu esforço.\n",
      "\n",
      "['Negativo'] - Mano eu to indo pra escola e o herik do meu lado falando pra crlh eu n gosto de conversa de manha n ele parece q n entende\n",
      "\n",
      "['Positivo'] - Bom dia ♥️\n",
      "\n",
      "['Positivo'] - O Brasil tem um presidente da república isolado que tem como único objetivo rivalizar partidos de esquerda e emisso… https://t.co/wl70RgQ7ci\n",
      "\n",
      "['Positivo'] - Tentar assistir #PrettyLittleLiars  também pois irá sair do catálogo\n",
      "\n",
      "['Positivo'] - Bom dia cambada\n",
      "\n",
      "['Positivo'] - Nesse mundo que vivemos, infelizmente é isso mesmo.\n",
      "Querem acabar com a família e bons costumes.\n",
      "É guerra mesmo.\n",
      "\n",
      "['Negativo'] - @vaidesmaiar @daycoments E vamos combinar que feio ele ficar ouvindo.\n",
      "Ele foi juntos as amigas e ficou deprimente\n",
      " demais p ele.\n",
      "\n",
      "['Negativo'] - @Kaykeferds_ Quer me beijar paizão?\n",
      "\n",
      "['Negativo'] - Vou nem falar o que achei viu minhas abelhas kkkkk\n",
      "\n",
      "['Neutro'] - @venecasagrande @joaoholanda1000 HAHAHAHAHAHAHA tá afiado em @venecasagrande https://t.co/ItdklzB5Uh\n",
      "\n",
      "['Positivo'] - @jeffincrf Bom dia\n",
      "\n",
      "['Negativo'] - Sonhei que eu mandei matar alguém a tiros que eu escutei os tiros, meu Deus eu tô agoniada meu coração tá apertado foi muito real\n",
      "\n",
      "['Positivo'] - Primeira aparição de acnologia\n",
      "\n",
      "['Negativo'] - hj eu tive mil motivos pra não ir à academia... dormi mal, to toda dolorida do treino de ontem, estressada com as p… https://t.co/8VtG8p1ktQ\n",
      "\n",
      "['Positivo'] - Acabou de publicar uma foto em São Caetano do Sul https://t.co/YEN12ip7DP\n",
      "\n",
      "['Neutro'] - @portalmvd Sr ministro a trabajar!!!!! Deje ya de hablar del FA . No sabe otro tema o solo tiene el chip del FA??\n",
      "\n",
      "['Positivo'] - acabou https://t.co/QDpR8W5d0m\n",
      "\n",
      "['Positivo'] - td*\n",
      "\n",
      "['Neutro'] - https://t.co/4tjyR5qxqc\n",
      "\n",
      "['Negativo'] - Não aguento mais levantar todo dia isso bicho vsf https://t.co/fnYZ548oxw\n",
      "\n",
      "['Negativo'] - Sim, muita....\n",
      "\n",
      "['Positivo'] - @brunocassucci Deixado pelo Coelho? Mas ele negligenciou o garoto, escondida ele no banco\n",
      "\n",
      "['Negativo'] - Que no salgan nunca más de la cárcel!!\n",
      "\n",
      "['Neutro'] - @RojasDell JAJAJA\n",
      "\n",
      "['Negativo'] - Gente que se intromete em conversas despretenciosas ou banais pra \"lacrar\" ou \"causar\": não seja essa pessoa.\n",
      "\n",
      "['Negativo'] - Fico fraco\n",
      "\n",
      "['Negativo'] - quero saber quem eh que vai agitar o sextou\n",
      "\n",
      "['Negativo'] - cansei de ser charmosa, quero ser meio charmosa só\n",
      "\n",
      "['Positivo'] - A vida é feita de oportunidade.\n",
      "\n",
      "['Neutro'] - O pobre de direita eleitor do Bolsonaro!!! https://t.co/lLh0S36LeN\n",
      "\n",
      "['Neutro'] - @rafa7_foliveira OBG RAFAO sdds https://t.co/iV9ElbQfnt\n",
      "\n",
      "['Positivo'] - E a vitória de 5 x 0 foi ilusória. Não se deixem enganar. O problema não é no comando técnico. Entretanto, dá pra b… https://t.co/SL5LRliMQg\n",
      "\n",
      "['Neutro'] - nível de nojentinho, você come/bebe:\n",
      "\n",
      "açaí? ✅\n",
      "azeitona? ❌\n",
      "maionese? ✅\n",
      "banana? ✅\n",
      "margarina? ✅\n",
      "pudim? ✅\n",
      "fígado? ✅\n",
      "pão… https://t.co/EWvl4lTSz9\n",
      "\n",
      "['Negativo'] - Tempo está meio complicado\n",
      "\n",
      "['Neutro'] - Muy bien, los audios de los amiguitos de Echevehere llamando a golpe de estado! Lo escuchaste? @mauriciomacri\n",
      "\n",
      "['Positivo'] - O amor explicou cada coisa.\n",
      "O amor resolveu tudo para mim.\n",
      "É por isso que admiro o amor\n",
      "onde quer que se encontre.… https://t.co/9Jp5hJrshB\n",
      "\n",
      "['Negativo'] - eu realmente nunca sei onde tô na vida das pessoas...\n",
      "uma hora elas me tratam como se fosse me dar o mundo e depois como qualquer uma\n",
      "\n",
      "['Neutro'] - Si dibuja la columna de parciales en un asiento contable en el que NO es necesario &gt;&gt;&gt;&gt;&gt;&gt; psicópata\n",
      "\n",
      "['Neutro'] - @InterBrisado420 Hahahahah\n",
      "\n",
      "['Negativo'] - Eu\n",
      "\n",
      "['Positivo'] - ... Sobre os monstros e a indústria do ódio.\n",
      "\n",
      "['Positivo'] - @Emaise @MarleneFFL Que se mude pra Cuba ou Venezuela\n",
      "\n"
     ]
    }
   ],
   "source": [
    "df_tweets = list(df['TWEET'])\n",
    "for i in range(1000,1150):\n",
    "    predict = classifica_tweets(df_tweets[i])\n",
    "    print(f\"{predict} - {df_tweets[i]}\\n\")"
   ]
  },
  {
   "cell_type": "code",
   "execution_count": 43,
   "metadata": {},
   "outputs": [
    {
     "data": {
      "text/plain": [
       "'Negativo'"
      ]
     },
     "execution_count": 43,
     "metadata": {},
     "output_type": "execute_result"
    }
   ],
   "source": [
    "classifica_tweets('e que passou do tempo')[0]"
   ]
  },
  {
   "cell_type": "code",
   "execution_count": null,
   "metadata": {},
   "outputs": [],
   "source": [
    "df_tweets['polaridade'] = np.array([classifica_tweets(tweet)[0] for tweet in df['TWEET'].values.astype('U')])"
   ]
  },
  {
   "cell_type": "code",
   "execution_count": null,
   "metadata": {},
   "outputs": [],
   "source": [
    "df_tweets"
   ]
  },
  {
   "cell_type": "markdown",
   "metadata": {},
   "source": [
    "## ingnore daqui pra baixo"
   ]
  },
  {
   "cell_type": "code",
   "execution_count": null,
   "metadata": {},
   "outputs": [],
   "source": [
    "def clean()"
   ]
  },
  {
   "cell_type": "code",
   "execution_count": 63,
   "metadata": {},
   "outputs": [],
   "source": [
    "#df = df.drop(columns = ['DATA_TWEET'])\n",
    "df.to_csv('./files test/tweets_classificados.csv')\n",
    "#df['Classificacao'] = '-'\n"
   ]
  }
 ],
 "metadata": {
  "kernelspec": {
   "display_name": "Python 3",
   "language": "python",
   "name": "python3"
  },
  "language_info": {
   "codemirror_mode": {
    "name": "ipython",
    "version": 3
   },
   "file_extension": ".py",
   "mimetype": "text/x-python",
   "name": "python",
   "nbconvert_exporter": "python",
   "pygments_lexer": "ipython3",
   "version": "3.8.3"
  }
 },
 "nbformat": 4,
 "nbformat_minor": 4
}